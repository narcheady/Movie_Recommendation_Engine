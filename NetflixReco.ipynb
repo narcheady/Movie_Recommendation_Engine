{
 "cells": [
  {
   "cell_type": "markdown",
   "metadata": {},
   "source": [
    "# Recommendation Engine using Netflix Dataset\n",
    "### Business Problem \n",
    "Netflix is all about connecting people to the movies they love. To help customers find those movies, they developed world-class movie recommendation system: CinematchSM. Its job is to predict whether someone will enjoy a movie based on how much they liked or disliked other movies. Netflix use those predictions to make personal movie recommendations based on each customer’s unique tastes. And while Cinematch is doing pretty well, it can always be made better. Now there are a lot of interesting alternative approaches to how Cinematch works that netflix haven’t tried. Some are described in the literature, some aren’t. We’re curious whether any of these can beat Cinematch by making better predictions. Because, frankly, if there is a much better approach it could make a big difference to our customers and our business. Credits: https://www.netflixprize.com/rules.html\n",
    "\n",
    "### Problem Statement\n",
    "Netflix provided a lot of anonymous rating data, and a prediction accuracy bar that is 10% better than what Cinematch can do on the same training data set. (Accuracy is a measurement of how closely predicted ratings of movies match subsequent actual ratings.)"
   ]
  },
  {
   "cell_type": "markdown",
   "metadata": {},
   "source": [
    "#### Importing required packages"
   ]
  },
  {
   "cell_type": "code",
   "execution_count": 14,
   "metadata": {},
   "outputs": [
    {
     "name": "stdout",
     "output_type": "stream",
     "text": [
      "Requirement already satisfied: xgboost in c:\\users\\ruchi\\appdata\\local\\continuum\\anaconda3\\lib\\site-packages (1.4.1)\n",
      "Requirement already satisfied: numpy in c:\\users\\ruchi\\appdata\\local\\continuum\\anaconda3\\lib\\site-packages (from xgboost) (1.19.2)\n",
      "Requirement already satisfied: scipy in c:\\users\\ruchi\\appdata\\local\\continuum\\anaconda3\\lib\\site-packages (from xgboost) (1.5.4)\n"
     ]
    }
   ],
   "source": [
    "import pandas as pd\n",
    "import numpy as np\n",
    "from datetime import datetime\n",
    "import os\n",
    "import sys\n",
    "import matplotlib\n",
    "import matplotlib.pyplot as plt\n",
    "import seaborn as sns\n",
    "sns.set_style(\"whitegrid\")\n",
    "import random\n",
    "from scipy import sparse\n",
    "from sklearn.metrics.pairwise import cosine_similarity\n",
    "from sklearn.metrics import mean_squared_error\n",
    "pip install dill #The following module helps resume kernel session\n",
    "\n",
    "!{sys.executable} -m pip install xgboost\n",
    "import xgboost as xgb\n",
    "# import surprise\n",
    "from surprise import Reader, Dataset\n",
    "from surprise import SVD\n",
    "from surprise import SVDpp\n",
    "from surprise.model_selection import GridSearchCV"
   ]
  },
  {
   "cell_type": "code",
   "execution_count": null,
   "metadata": {},
   "outputs": [],
   "source": [
    "'''\n",
    "import dill\n",
    "dill.dump_session('dataImport.db')\n",
    "import dill\n",
    "dill.load_session('notebook_env.db')\n",
    "'''"
   ]
  },
  {
   "cell_type": "markdown",
   "metadata": {},
   "source": [
    "#### Create new csv dataset from txt files\n",
    "The data used in this article is the open sourced dataset provided by Netflix"
   ]
  },
  {
   "cell_type": "code",
   "execution_count": 3,
   "metadata": {},
   "outputs": [
    {
     "name": "stdout",
     "output_type": "stream",
     "text": [
      "Reading from file: combined_data_1.txt...\n",
      "Reading of file: combined_data_1.txt is completed\n",
      "\n",
      "Total time taken for execution of this code = 0:02:26.713360\n"
     ]
    }
   ],
   "source": [
    "if not os.path.isfile(\"NetflixRatings.csv\"):\n",
    "    startTime = datetime.now()\n",
    "    data = open(\"NetflixRatings.csv\", mode = \"w\")\n",
    "    #add the ratings txt to below list\n",
    "    files = ['combined_data_1.txt']\n",
    "    for file in files:\n",
    "        print(\"Reading from file: \"+str(file)+\"...\")\n",
    "        with open(file) as f:\n",
    "            for line in f:\n",
    "                line = line.strip()\n",
    "                #to remove the semi-colon and return us the leading movie ID.\n",
    "                if line.endswith(\":\"):\n",
    "                    movieID = line.replace(\":\", \"\")\n",
    "                else:\n",
    "                    row = [] \n",
    "                    row = [x for x in line.split(\",\")]\n",
    "                    row.insert(0, movieID)\n",
    "                    data.write(\",\".join(row))\n",
    "                    data.write(\"\\n\")\n",
    "        print(\"Reading of file: \"+str(file)+\" is completed\\n\")\n",
    "    data.close()\n",
    "    print(\"Total time taken for execution of this code = \"+str(datetime.now() - startTime))"
   ]
  },
  {
   "cell_type": "markdown",
   "metadata": {},
   "source": [
    "#### Creating data frame from our output csv file."
   ]
  },
  {
   "cell_type": "code",
   "execution_count": 4,
   "metadata": {},
   "outputs": [
    {
     "name": "stdout",
     "output_type": "stream",
     "text": [
      "Time taken for execution of above code = 0:00:34.402659\n"
     ]
    }
   ],
   "source": [
    "if not os.path.isfile(\"NetflixData.pkl\"):\n",
    "    startTime = datetime.now()\n",
    "    Final_Data = pd.read_csv(\"NetflixRatings.csv\", sep=\",\", names = [\"MovieID\",\"CustID\", \"Ratings\", \"Date\"])\n",
    "    Final_Data[\"Date\"] = pd.to_datetime(Final_Data[\"Date\"])\n",
    "    Final_Data.sort_values(by = \"Date\", inplace = True)\n",
    "    print(\"Time taken for execution of above code = \"+str(datetime.now() - startTime))"
   ]
  },
  {
   "cell_type": "markdown",
   "metadata": {},
   "source": [
    "#### Storing pandas dataframe as a picklefile for later use"
   ]
  },
  {
   "cell_type": "code",
   "execution_count": 5,
   "metadata": {},
   "outputs": [],
   "source": [
    "if not os.path.isfile(\"NetflixData.pkl\"):\n",
    "    Final_Data.to_pickle(\"NetflixData.pkl\")\n",
    "else:\n",
    "    Final_Data = pd.read_pickle(\"NetflixData.pkl\")"
   ]
  },
  {
   "cell_type": "markdown",
   "metadata": {},
   "source": [
    "#### Displaying first 10 rows"
   ]
  },
  {
   "cell_type": "code",
   "execution_count": 28,
   "metadata": {},
   "outputs": [
    {
     "data": {
      "text/html": [
       "<div>\n",
       "<style scoped>\n",
       "    .dataframe tbody tr th:only-of-type {\n",
       "        vertical-align: middle;\n",
       "    }\n",
       "\n",
       "    .dataframe tbody tr th {\n",
       "        vertical-align: top;\n",
       "    }\n",
       "\n",
       "    .dataframe thead th {\n",
       "        text-align: right;\n",
       "    }\n",
       "</style>\n",
       "<table border=\"1\" class=\"dataframe\">\n",
       "  <thead>\n",
       "    <tr style=\"text-align: right;\">\n",
       "      <th></th>\n",
       "      <th>MovieID</th>\n",
       "      <th>CustID</th>\n",
       "      <th>Ratings</th>\n",
       "      <th>Date</th>\n",
       "    </tr>\n",
       "  </thead>\n",
       "  <tbody>\n",
       "    <tr>\n",
       "      <th>9056171</th>\n",
       "      <td>1798</td>\n",
       "      <td>510180</td>\n",
       "      <td>5</td>\n",
       "      <td>1999-11-11</td>\n",
       "    </tr>\n",
       "    <tr>\n",
       "      <th>14892677</th>\n",
       "      <td>2866</td>\n",
       "      <td>510180</td>\n",
       "      <td>3</td>\n",
       "      <td>1999-11-11</td>\n",
       "    </tr>\n",
       "    <tr>\n",
       "      <th>19585852</th>\n",
       "      <td>3730</td>\n",
       "      <td>510180</td>\n",
       "      <td>4</td>\n",
       "      <td>1999-11-11</td>\n",
       "    </tr>\n",
       "    <tr>\n",
       "      <th>20393918</th>\n",
       "      <td>3870</td>\n",
       "      <td>510180</td>\n",
       "      <td>2</td>\n",
       "      <td>1999-11-11</td>\n",
       "    </tr>\n",
       "    <tr>\n",
       "      <th>6901473</th>\n",
       "      <td>1367</td>\n",
       "      <td>510180</td>\n",
       "      <td>5</td>\n",
       "      <td>1999-11-11</td>\n",
       "    </tr>\n",
       "    <tr>\n",
       "      <th>15344539</th>\n",
       "      <td>2948</td>\n",
       "      <td>510180</td>\n",
       "      <td>3</td>\n",
       "      <td>1999-12-06</td>\n",
       "    </tr>\n",
       "    <tr>\n",
       "      <th>17853578</th>\n",
       "      <td>3421</td>\n",
       "      <td>510180</td>\n",
       "      <td>3</td>\n",
       "      <td>1999-12-06</td>\n",
       "    </tr>\n",
       "    <tr>\n",
       "      <th>13150839</th>\n",
       "      <td>2478</td>\n",
       "      <td>510180</td>\n",
       "      <td>3</td>\n",
       "      <td>1999-12-06</td>\n",
       "    </tr>\n",
       "    <tr>\n",
       "      <th>8029690</th>\n",
       "      <td>1615</td>\n",
       "      <td>122223</td>\n",
       "      <td>3</td>\n",
       "      <td>1999-12-08</td>\n",
       "    </tr>\n",
       "    <tr>\n",
       "      <th>14344265</th>\n",
       "      <td>2780</td>\n",
       "      <td>122223</td>\n",
       "      <td>3</td>\n",
       "      <td>1999-12-08</td>\n",
       "    </tr>\n",
       "  </tbody>\n",
       "</table>\n",
       "</div>"
      ],
      "text/plain": [
       "          MovieID  CustID  Ratings       Date\n",
       "9056171      1798  510180        5 1999-11-11\n",
       "14892677     2866  510180        3 1999-11-11\n",
       "19585852     3730  510180        4 1999-11-11\n",
       "20393918     3870  510180        2 1999-11-11\n",
       "6901473      1367  510180        5 1999-11-11\n",
       "15344539     2948  510180        3 1999-12-06\n",
       "17853578     3421  510180        3 1999-12-06\n",
       "13150839     2478  510180        3 1999-12-06\n",
       "8029690      1615  122223        3 1999-12-08\n",
       "14344265     2780  122223        3 1999-12-08"
      ]
     },
     "execution_count": 28,
     "metadata": {},
     "output_type": "execute_result"
    }
   ],
   "source": [
    "Final_Data.head(10)"
   ]
  },
  {
   "cell_type": "markdown",
   "metadata": {},
   "source": [
    "#### Display datatypes of all columns"
   ]
  },
  {
   "cell_type": "code",
   "execution_count": 8,
   "metadata": {},
   "outputs": [
    {
     "data": {
      "text/plain": [
       "MovieID             int64\n",
       "CustID              int64\n",
       "Ratings             int64\n",
       "Date       datetime64[ns]\n",
       "dtype: object"
      ]
     },
     "execution_count": 8,
     "metadata": {},
     "output_type": "execute_result"
    }
   ],
   "source": [
    "Final_Data.dtypes"
   ]
  },
  {
   "cell_type": "markdown",
   "metadata": {},
   "source": [
    "#### Checking null values in dataset"
   ]
  },
  {
   "cell_type": "code",
   "execution_count": 28,
   "metadata": {},
   "outputs": [
    {
     "name": "stdout",
     "output_type": "stream",
     "text": [
      "NaN values in dataset = MovieID    0\n",
      "CustID     0\n",
      "Ratings    0\n",
      "Date       0\n",
      "dtype: int64\n"
     ]
    }
   ],
   "source": [
    "print(\"NaN values in dataset = \" + str(Final_Data.isnull().sum()))"
   ]
  },
  {
   "cell_type": "markdown",
   "metadata": {},
   "source": [
    "#### Checking for duplicate values"
   ]
  },
  {
   "cell_type": "code",
   "execution_count": 29,
   "metadata": {},
   "outputs": [
    {
     "name": "stdout",
     "output_type": "stream",
     "text": [
      "Number of duplicate rows = 0\n"
     ]
    }
   ],
   "source": [
    "duplicates = Final_Data.duplicated([\"MovieID\",\"CustID\", \"Ratings\"])\n",
    "print(\"Number of duplicate rows = \"+str(duplicates.sum()))"
   ]
  },
  {
   "cell_type": "markdown",
   "metadata": {},
   "source": [
    "#### Movie stats from dataset"
   ]
  },
  {
   "cell_type": "code",
   "execution_count": 14,
   "metadata": {},
   "outputs": [
    {
     "name": "stdout",
     "output_type": "stream",
     "text": [
      "Total Data:\n",
      "Total number of movie ratings = 24053764\n",
      "Number of unique users = 470758\n",
      "Number of unique movies = 4499\n"
     ]
    }
   ],
   "source": [
    "print(\"Total Data:\")\n",
    "rating_count = Final_Data.shape[0]\n",
    "print(\"Total number of movie ratings = \"+str(rating_count))\n",
    "customer_count = len(np.unique(Final_Data[\"CustID\"]))\n",
    "print(\"Number of unique users = \"+str(customer_count))\n",
    "movie_count = len(np.unique(Final_Data[\"MovieID\"]))\n",
    "print(\"Number of unique movies = \"+str(movie_count))"
   ]
  },
  {
   "cell_type": "markdown",
   "metadata": {},
   "source": [
    "#### Ratings stats"
   ]
  },
  {
   "cell_type": "code",
   "execution_count": 17,
   "metadata": {},
   "outputs": [
    {
     "data": {
      "text/plain": [
       "count    2.405376e+07\n",
       "mean     3.599634e+00\n",
       "std      1.086118e+00\n",
       "min      1.000000e+00\n",
       "25%      3.000000e+00\n",
       "50%      4.000000e+00\n",
       "75%      4.000000e+00\n",
       "max      5.000000e+00\n",
       "Name: Ratings, dtype: float64"
      ]
     },
     "execution_count": 17,
     "metadata": {},
     "output_type": "execute_result"
    }
   ],
   "source": [
    "Final_Data.describe()[\"Ratings\"]"
   ]
  },
  {
   "cell_type": "code",
   "execution_count": 18,
   "metadata": {},
   "outputs": [],
   "source": [
    "ratings = Final_Data.groupby('Ratings')['Ratings'].agg(['count']) #groupby ratings and show Ratings column"
   ]
  },
  {
   "cell_type": "code",
   "execution_count": 31,
   "metadata": {},
   "outputs": [
    {
     "data": {
      "text/html": [
       "<div>\n",
       "<style scoped>\n",
       "    .dataframe tbody tr th:only-of-type {\n",
       "        vertical-align: middle;\n",
       "    }\n",
       "\n",
       "    .dataframe tbody tr th {\n",
       "        vertical-align: top;\n",
       "    }\n",
       "\n",
       "    .dataframe thead th {\n",
       "        text-align: right;\n",
       "    }\n",
       "</style>\n",
       "<table border=\"1\" class=\"dataframe\">\n",
       "  <thead>\n",
       "    <tr style=\"text-align: right;\">\n",
       "      <th></th>\n",
       "      <th>count</th>\n",
       "    </tr>\n",
       "    <tr>\n",
       "      <th>Ratings</th>\n",
       "      <th></th>\n",
       "    </tr>\n",
       "  </thead>\n",
       "  <tbody>\n",
       "    <tr>\n",
       "      <th>1</th>\n",
       "      <td>1118186</td>\n",
       "    </tr>\n",
       "    <tr>\n",
       "      <th>2</th>\n",
       "      <td>2439073</td>\n",
       "    </tr>\n",
       "    <tr>\n",
       "      <th>3</th>\n",
       "      <td>6904181</td>\n",
       "    </tr>\n",
       "    <tr>\n",
       "      <th>4</th>\n",
       "      <td>8085741</td>\n",
       "    </tr>\n",
       "    <tr>\n",
       "      <th>5</th>\n",
       "      <td>5506583</td>\n",
       "    </tr>\n",
       "  </tbody>\n",
       "</table>\n",
       "</div>"
      ],
      "text/plain": [
       "           count\n",
       "Ratings         \n",
       "1        1118186\n",
       "2        2439073\n",
       "3        6904181\n",
       "4        8085741\n",
       "5        5506583"
      ]
     },
     "execution_count": 31,
     "metadata": {},
     "output_type": "execute_result"
    }
   ],
   "source": [
    "ratings"
   ]
  },
  {
   "cell_type": "code",
   "execution_count": 24,
   "metadata": {},
   "outputs": [],
   "source": [
    "def changingLabels(number):\n",
    "    return str(number/10**6) + \"M\""
   ]
  },
  {
   "cell_type": "code",
   "execution_count": 25,
   "metadata": {},
   "outputs": [
    {
     "name": "stderr",
     "output_type": "stream",
     "text": [
      "C:\\Users\\ruchi\\AppData\\Local\\Continuum\\anaconda3\\lib\\site-packages\\ipykernel_launcher.py:3: UserWarning: FixedFormatter should only be used together with FixedLocator\n",
      "  This is separate from the ipykernel package so we can avoid doing imports until\n"
     ]
    },
    {
     "data": {
      "image/png": "[encoded data removed]",
      "text/plain": [
       "<Figure size 1080x720 with 1 Axes>"
      ]
     },
     "metadata": {
      "needs_background": "light"
     },
     "output_type": "display_data"
    }
   ],
   "source": [
    "plt.figure(figsize = (15, 10))\n",
    "ax = sns.countplot(x=\"Ratings\", data=Final_Data)\n",
    "ax.set_yticklabels([changingLabels(num) for num in ax.get_yticks()])\n",
    "plt.title(f'Total Pool : {movie_count} Movies, {customer_count} Customers, {rating_count} ratings given', fontsize =20)\n",
    "plt.grid(True)\n",
    "\n",
    "i = 0\n",
    "for p in ax.patches:\n",
    "    i += 1\n",
    "    width = p.get_width()\n",
    "    height = p.get_height()\n",
    "    x, y = p.get_xy()\n",
    "    #print(p,x,y,width, height)\n",
    "    ax.annotate(f'Rating {i}: {height/rating_count:.0%}', (x + width/2, y + height/2), ha='center', va=\"center\", color=\"white\", fontsize=16, fontweight=\"bold\")"
   ]
  },
  {
   "cell_type": "markdown",
   "metadata": {},
   "source": [
    "#### Number of movies in dataset with number of ratings for every movie"
   ]
  },
  {
   "cell_type": "code",
   "execution_count": 20,
   "metadata": {},
   "outputs": [
    {
     "data": {
      "text/html": [
       "<div>\n",
       "<style scoped>\n",
       "    .dataframe tbody tr th:only-of-type {\n",
       "        vertical-align: middle;\n",
       "    }\n",
       "\n",
       "    .dataframe tbody tr th {\n",
       "        vertical-align: top;\n",
       "    }\n",
       "\n",
       "    .dataframe thead th {\n",
       "        text-align: right;\n",
       "    }\n",
       "</style>\n",
       "<table border=\"1\" class=\"dataframe\">\n",
       "  <thead>\n",
       "    <tr style=\"text-align: right;\">\n",
       "      <th></th>\n",
       "      <th>count</th>\n",
       "    </tr>\n",
       "    <tr>\n",
       "      <th>MovieID</th>\n",
       "      <th></th>\n",
       "    </tr>\n",
       "  </thead>\n",
       "  <tbody>\n",
       "    <tr>\n",
       "      <th>1</th>\n",
       "      <td>547</td>\n",
       "    </tr>\n",
       "    <tr>\n",
       "      <th>2</th>\n",
       "      <td>145</td>\n",
       "    </tr>\n",
       "    <tr>\n",
       "      <th>3</th>\n",
       "      <td>2012</td>\n",
       "    </tr>\n",
       "    <tr>\n",
       "      <th>4</th>\n",
       "      <td>142</td>\n",
       "    </tr>\n",
       "    <tr>\n",
       "      <th>5</th>\n",
       "      <td>1140</td>\n",
       "    </tr>\n",
       "    <tr>\n",
       "      <th>...</th>\n",
       "      <td>...</td>\n",
       "    </tr>\n",
       "    <tr>\n",
       "      <th>4495</th>\n",
       "      <td>614</td>\n",
       "    </tr>\n",
       "    <tr>\n",
       "      <th>4496</th>\n",
       "      <td>9519</td>\n",
       "    </tr>\n",
       "    <tr>\n",
       "      <th>4497</th>\n",
       "      <td>714</td>\n",
       "    </tr>\n",
       "    <tr>\n",
       "      <th>4498</th>\n",
       "      <td>269</td>\n",
       "    </tr>\n",
       "    <tr>\n",
       "      <th>4499</th>\n",
       "      <td>428</td>\n",
       "    </tr>\n",
       "  </tbody>\n",
       "</table>\n",
       "<p>4499 rows × 1 columns</p>\n",
       "</div>"
      ],
      "text/plain": [
       "         count\n",
       "MovieID       \n",
       "1          547\n",
       "2          145\n",
       "3         2012\n",
       "4          142\n",
       "5         1140\n",
       "...        ...\n",
       "4495       614\n",
       "4496      9519\n",
       "4497       714\n",
       "4498       269\n",
       "4499       428\n",
       "\n",
       "[4499 rows x 1 columns]"
      ]
     },
     "execution_count": 20,
     "metadata": {},
     "output_type": "execute_result"
    }
   ],
   "source": [
    "#number of movies in dataset with number of ratings for every movie\n",
    "per_movie_rater_count = Final_Data.groupby('MovieID')['MovieID'].agg(['count'])\n",
    "per_movie_rater_count"
   ]
  },
  {
   "cell_type": "code",
   "execution_count": 21,
   "metadata": {},
   "outputs": [],
   "source": [
    "# Saving the session till data import\n",
    "# import dill\n",
    "# dill.dump_session('dataImport.db')\n",
    "# import dill\n",
    "# dill.load_session('dataImport.db')"
   ]
  },
  {
   "cell_type": "markdown",
   "metadata": {},
   "source": [
    "#### Split the Netflix movie dataset into Train and Test data with 80:20 ratio"
   ]
  },
  {
   "cell_type": "code",
   "execution_count": 32,
   "metadata": {},
   "outputs": [],
   "source": [
    "#If not already present, then create, else read from existing pickle file\n",
    "\n",
    "if not os.path.isfile(\"TrainData.pkl\"):\n",
    "    Final_Data.iloc[:int(Final_Data.shape[0]*0.80)].to_pickle(\"TrainData.pkl\")\n",
    "    Train_Data = pd.read_pickle(\"TrainData.pkl\")\n",
    "    Train_Data.reset_index(drop = True, inplace = True)\n",
    "else:\n",
    "    Train_Data = pd.read_pickle(\"TrainData.pkl\")\n",
    "    Train_Data.reset_index(drop = True, inplace = True)\n",
    "\n",
    "if not os.path.isfile(\"TestData.pkl\"):\n",
    "    Final_Data.iloc[int(Final_Data.shape[0]*0.80):].to_pickle(\"TestData.pkl\")\n",
    "    Test_Data = pd.read_pickle(\"TestData.pkl\")\n",
    "    Test_Data.reset_index(drop = True, inplace = True)\n",
    "else:\n",
    "    Test_Data = pd.read_pickle(\"TestData.pkl\")\n",
    "    Test_Data.reset_index(drop = True, inplace = True)"
   ]
  },
  {
   "cell_type": "markdown",
   "metadata": {},
   "source": [
    "#### Training Data Statistics"
   ]
  },
  {
   "cell_type": "code",
   "execution_count": 34,
   "metadata": {},
   "outputs": [
    {
     "name": "stdout",
     "output_type": "stream",
     "text": [
      "Total Train Data:\n",
      "Total number of movie ratings in train data = 19243011\n",
      "Number of unique users in train data = 389223\n",
      "Number of unique movies in train data = 4403\n",
      "Highest value of a User ID = 2649429\n",
      "Highest value of a Movie ID = 4499\n"
     ]
    }
   ],
   "source": [
    "print(\"Total Train Data:\")\n",
    "print(\"Total number of movie ratings in train data = \"+str(Train_Data.shape[0]))\n",
    "print(\"Number of unique users in train data = \"+str(len(np.unique(Train_Data[\"CustID\"]))))\n",
    "print(\"Number of unique movies in train data = \"+str(len(np.unique(Train_Data[\"MovieID\"]))))\n",
    "print(\"Highest value of a User ID = \"+str(max(Train_Data[\"CustID\"].values)))\n",
    "print(\"Highest value of a Movie ID = \"+str(max(Train_Data[\"MovieID\"].values)))"
   ]
  },
  {
   "cell_type": "markdown",
   "metadata": {},
   "source": [
    "#### Test data statistics"
   ]
  },
  {
   "cell_type": "code",
   "execution_count": 36,
   "metadata": {},
   "outputs": [
    {
     "name": "stdout",
     "output_type": "stream",
     "text": [
      "Total Test Data:\n",
      "Total number of movie ratings in Test data = 4810753\n",
      "Number of unique users in Test data = 302727\n",
      "Number of unique movies in Test data = 4497\n",
      "Highest value of a User ID = 2649429\n",
      "Highest value of a Movie ID = 4499\n"
     ]
    }
   ],
   "source": [
    "print(\"Total Test Data:\")\n",
    "print(\"Total number of movie ratings in Test data = \"+str(Test_Data.shape[0]))\n",
    "print(\"Number of unique users in Test data = \"+str(len(np.unique(Test_Data[\"CustID\"]))))\n",
    "print(\"Number of unique movies in Test data = \"+str(len(np.unique(Test_Data[\"MovieID\"]))))\n",
    "print(\"Highest value of a User ID = \"+str(max(Test_Data[\"CustID\"].values)))\n",
    "print(\"Highest value of a Movie ID = \"+str(max(Test_Data[\"MovieID\"].values)))"
   ]
  },
  {
   "cell_type": "markdown",
   "metadata": {},
   "source": [
    "## Exploratory Data Analysis (EDA) on Training Dataset"
   ]
  },
  {
   "cell_type": "code",
   "execution_count": 39,
   "metadata": {},
   "outputs": [],
   "source": [
    "#Finding the days of every date\n",
    "Train_Data[\"DayOfWeek\"] = Train_Data.Date.dt.strftime(\"%A\")"
   ]
  },
  {
   "cell_type": "code",
   "execution_count": 44,
   "metadata": {},
   "outputs": [
    {
     "data": {
      "text/html": [
       "<div>\n",
       "<style scoped>\n",
       "    .dataframe tbody tr th:only-of-type {\n",
       "        vertical-align: middle;\n",
       "    }\n",
       "\n",
       "    .dataframe tbody tr th {\n",
       "        vertical-align: top;\n",
       "    }\n",
       "\n",
       "    .dataframe thead th {\n",
       "        text-align: right;\n",
       "    }\n",
       "</style>\n",
       "<table border=\"1\" class=\"dataframe\">\n",
       "  <thead>\n",
       "    <tr style=\"text-align: right;\">\n",
       "      <th></th>\n",
       "      <th>MovieID</th>\n",
       "      <th>CustID</th>\n",
       "      <th>Ratings</th>\n",
       "      <th>Date</th>\n",
       "      <th>DayOfWeek</th>\n",
       "    </tr>\n",
       "  </thead>\n",
       "  <tbody>\n",
       "    <tr>\n",
       "      <th>0</th>\n",
       "      <td>1798</td>\n",
       "      <td>510180</td>\n",
       "      <td>5</td>\n",
       "      <td>1999-11-11</td>\n",
       "      <td>Thursday</td>\n",
       "    </tr>\n",
       "    <tr>\n",
       "      <th>1</th>\n",
       "      <td>2866</td>\n",
       "      <td>510180</td>\n",
       "      <td>3</td>\n",
       "      <td>1999-11-11</td>\n",
       "      <td>Thursday</td>\n",
       "    </tr>\n",
       "    <tr>\n",
       "      <th>2</th>\n",
       "      <td>3730</td>\n",
       "      <td>510180</td>\n",
       "      <td>4</td>\n",
       "      <td>1999-11-11</td>\n",
       "      <td>Thursday</td>\n",
       "    </tr>\n",
       "    <tr>\n",
       "      <th>3</th>\n",
       "      <td>3870</td>\n",
       "      <td>510180</td>\n",
       "      <td>2</td>\n",
       "      <td>1999-11-11</td>\n",
       "      <td>Thursday</td>\n",
       "    </tr>\n",
       "    <tr>\n",
       "      <th>4</th>\n",
       "      <td>1367</td>\n",
       "      <td>510180</td>\n",
       "      <td>5</td>\n",
       "      <td>1999-11-11</td>\n",
       "      <td>Thursday</td>\n",
       "    </tr>\n",
       "    <tr>\n",
       "      <th>5</th>\n",
       "      <td>2948</td>\n",
       "      <td>510180</td>\n",
       "      <td>3</td>\n",
       "      <td>1999-12-06</td>\n",
       "      <td>Monday</td>\n",
       "    </tr>\n",
       "    <tr>\n",
       "      <th>6</th>\n",
       "      <td>3421</td>\n",
       "      <td>510180</td>\n",
       "      <td>3</td>\n",
       "      <td>1999-12-06</td>\n",
       "      <td>Monday</td>\n",
       "    </tr>\n",
       "    <tr>\n",
       "      <th>7</th>\n",
       "      <td>2478</td>\n",
       "      <td>510180</td>\n",
       "      <td>3</td>\n",
       "      <td>1999-12-06</td>\n",
       "      <td>Monday</td>\n",
       "    </tr>\n",
       "    <tr>\n",
       "      <th>8</th>\n",
       "      <td>1615</td>\n",
       "      <td>122223</td>\n",
       "      <td>3</td>\n",
       "      <td>1999-12-08</td>\n",
       "      <td>Wednesday</td>\n",
       "    </tr>\n",
       "    <tr>\n",
       "      <th>9</th>\n",
       "      <td>2780</td>\n",
       "      <td>122223</td>\n",
       "      <td>3</td>\n",
       "      <td>1999-12-08</td>\n",
       "      <td>Wednesday</td>\n",
       "    </tr>\n",
       "  </tbody>\n",
       "</table>\n",
       "</div>"
      ],
      "text/plain": [
       "   MovieID  CustID  Ratings       Date  DayOfWeek\n",
       "0     1798  510180        5 1999-11-11   Thursday\n",
       "1     2866  510180        3 1999-11-11   Thursday\n",
       "2     3730  510180        4 1999-11-11   Thursday\n",
       "3     3870  510180        2 1999-11-11   Thursday\n",
       "4     1367  510180        5 1999-11-11   Thursday\n",
       "5     2948  510180        3 1999-12-06     Monday\n",
       "6     3421  510180        3 1999-12-06     Monday\n",
       "7     2478  510180        3 1999-12-06     Monday\n",
       "8     1615  122223        3 1999-12-08  Wednesday\n",
       "9     2780  122223        3 1999-12-08  Wednesday"
      ]
     },
     "execution_count": 44,
     "metadata": {},
     "output_type": "execute_result"
    }
   ],
   "source": [
    "Train_Data.head(10)"
   ]
  },
  {
   "cell_type": "markdown",
   "metadata": {},
   "source": [
    "#### Number of ratings per month"
   ]
  },
  {
   "cell_type": "code",
   "execution_count": 107,
   "metadata": {},
   "outputs": [
    {
     "name": "stderr",
     "output_type": "stream",
     "text": [
      "C:\\Users\\ruchi\\AppData\\Local\\Continuum\\anaconda3\\lib\\site-packages\\ipykernel_launcher.py:3: UserWarning: FixedFormatter should only be used together with FixedLocator\n",
      "  This is separate from the ipykernel package so we can avoid doing imports until\n"
     ]
    },
    {
     "data": {
      "image/png": "[encoded data removed]",
      "text/plain": [
       "<Figure size 720x576 with 1 Axes>"
      ]
     },
     "metadata": {},
     "output_type": "display_data"
    }
   ],
   "source": [
    "plt.figure(figsize = (10,8))\n",
    "ax = Train_Data.resample(\"M\", on = \"Date\")[\"Ratings\"].count().plot()\n",
    "ax.set_yticklabels([changingLabels(num) for num in ax.get_yticks()])\n",
    "ax.set_title(\"Number of Ratings per month\", fontsize = 20)\n",
    "ax.set_xlabel(\"Date\", fontsize = 20)\n",
    "ax.set_ylabel(\"Number of Ratings Per Month(Millions)\", fontsize = 20)\n",
    "plt.tick_params(labelsize = 15)\n",
    "plt.show()"
   ]
  },
  {
   "cell_type": "markdown",
   "metadata": {},
   "source": [
    "##### We can see that there is a massive growth of Netflix during the period 2003–2006."
   ]
  },
  {
   "cell_type": "markdown",
   "metadata": {},
   "source": [
    "#### Analysis of Ratings given by user "
   ]
  },
  {
   "cell_type": "code",
   "execution_count": 108,
   "metadata": {},
   "outputs": [],
   "source": [
    "no_of_rated_movies_per_user = Train_Data.groupby(by = \"CustID\")[\"Ratings\"].count().sort_values(ascending = False)"
   ]
  },
  {
   "cell_type": "code",
   "execution_count": 122,
   "metadata": {},
   "outputs": [
    {
     "data": {
      "text/plain": [
       "CustID\n",
       "305344     4326\n",
       "2439493    4017\n",
       "387418     3881\n",
       "1639792    2500\n",
       "1461435    2339\n",
       "           ... \n",
       "2604554       1\n",
       "1603923       1\n",
       "1603917       1\n",
       "712499        1\n",
       "1053710       1\n",
       "Name: Ratings, Length: 389223, dtype: int64"
      ]
     },
     "execution_count": 122,
     "metadata": {},
     "output_type": "execute_result"
    }
   ],
   "source": [
    "no_of_rated_movies_per_user"
   ]
  },
  {
   "cell_type": "markdown",
   "metadata": {},
   "source": [
    "#### Plotting PDF and CDF for the above ratings by users"
   ]
  },
  {
   "cell_type": "code",
   "execution_count": 111,
   "metadata": {},
   "outputs": [
    {
     "data": {
      "image/png": "[encoded data removed]",
      "text/plain": [
       "<Figure size 1008x504 with 2 Axes>"
      ]
     },
     "metadata": {},
     "output_type": "display_data"
    }
   ],
   "source": [
    "fig, axes = plt.subplots(nrows = 1, ncols = 2, figsize=(14,7))\n",
    "\n",
    "sns.kdeplot(no_of_rated_movies_per_user.values, shade = True, ax = axes[0])\n",
    "axes[0].set_title(\"PDF\", fontsize = 18)\n",
    "axes[0].set_xlabel(\"Number of Ratings by user\", fontsize = 18)\n",
    "axes[0].tick_params(labelsize = 15)\n",
    "\n",
    "sns.kdeplot(no_of_rated_movies_per_user.values, shade = True, cumulative = True, ax = axes[1])\n",
    "axes[1].set_title(\"CDF\", fontsize = 18)\n",
    "axes[1].set_xlabel(\"Number of Ratings by user\", fontsize = 18)\n",
    "axes[1].tick_params(labelsize = 15)\n",
    "\n",
    "fig.subplots_adjust(wspace=2)\n",
    "plt.tight_layout()\n",
    "plt.show()"
   ]
  },
  {
   "cell_type": "markdown",
   "metadata": {},
   "source": [
    "#### From above PDF plot, we see that almost all of the users give very few ratings. There are very few users who's ratings count is high.\n",
    "##### Similarly, above CDF graph shows that almost 99% of users give very few ratings."
   ]
  },
  {
   "cell_type": "markdown",
   "metadata": {},
   "source": [
    "### Analysis of Ratings Per Movie"
   ]
  },
  {
   "cell_type": "code",
   "execution_count": 114,
   "metadata": {},
   "outputs": [],
   "source": [
    "no_of_ratings_per_movie = Train_Data.groupby(by = \"MovieID\")[\"Ratings\"].count().sort_values(ascending = False)"
   ]
  },
  {
   "cell_type": "code",
   "execution_count": 118,
   "metadata": {},
   "outputs": [
    {
     "data": {
      "image/png": "[encoded data removed]",
      "text/plain": [
       "<Figure size 576x288 with 1 Axes>"
      ]
     },
     "metadata": {},
     "output_type": "display_data"
    }
   ],
   "source": [
    "fig = plt.figure(figsize=plt.figaspect(.5))\n",
    "ax = plt.gca()\n",
    "plt.plot(no_of_ratings_per_movie.values)\n",
    "plt.title('Rating Per Movie')\n",
    "plt.xlabel('Movie')\n",
    "plt.ylabel('Count of Users who rated a Movie')\n",
    "ax.set_xticklabels([])\n",
    "\n",
    "plt.show()"
   ]
  },
  {
   "cell_type": "markdown",
   "metadata": {},
   "source": [
    "#### This plot being very skewed tells us that there are some movies which are very popular and were rated by many users as compared to other movies as shown below."
   ]
  },
  {
   "cell_type": "code",
   "execution_count": 121,
   "metadata": {},
   "outputs": [
    {
     "data": {
      "text/plain": [
       "MovieID\n",
       "1905    158267\n",
       "4432    130331\n",
       "571     130038\n",
       "2452    127212\n",
       "3860    127051\n",
       "         ...  \n",
       "887          1\n",
       "2280         1\n",
       "1072         1\n",
       "1416         1\n",
       "2534         1\n",
       "Name: Ratings, Length: 4403, dtype: int64"
      ]
     },
     "execution_count": 121,
     "metadata": {},
     "output_type": "execute_result"
    }
   ],
   "source": [
    "no_of_ratings_per_movie.sort_values(ascending=False)"
   ]
  },
  {
   "cell_type": "code",
   "execution_count": 1,
   "metadata": {},
   "outputs": [
    {
     "name": "stderr",
     "output_type": "stream",
     "text": [
      "C:\\Users\\ruchi\\AppData\\Local\\Continuum\\anaconda3\\lib\\site-packages\\statsmodels\\tools\\_testing.py:19: FutureWarning: pandas.util.testing is deprecated. Use the functions in the public API at pandas.testing instead.\n",
      "  import pandas.util.testing as tm\n"
     ]
    }
   ],
   "source": [
    "# import dill\n",
    "# dill.dump_session('dataEDA.db')\n",
    "import dill\n",
    "dill.load_session('dataEDA.db')"
   ]
  },
  {
   "cell_type": "code",
   "execution_count": 3,
   "metadata": {},
   "outputs": [
    {
     "name": "stderr",
     "output_type": "stream",
     "text": [
      "C:\\Users\\ruchi\\AppData\\Local\\Continuum\\anaconda3\\lib\\site-packages\\ipykernel_launcher.py:7: UserWarning: FixedFormatter should only be used together with FixedLocator\n",
      "  import sys\n"
     ]
    },
    {
     "data": {
      "image/png": "[encoded data removed]",
      "text/plain": [
       "<Figure size 864x576 with 1 Axes>"
      ]
     },
     "metadata": {
      "needs_background": "light"
     },
     "output_type": "display_data"
    }
   ],
   "source": [
    "fig = plt.figure(figsize = (12, 8))\n",
    "\n",
    "axes = sns.countplot(x = \"DayOfWeek\", data = Train_Data)\n",
    "axes.set_title(\"Day of week VS Number of Ratings\", fontsize = 20)\n",
    "axes.set_xlabel(\"Day of Week\", fontsize = 20)\n",
    "axes.set_ylabel(\"Number of Ratings\", fontsize = 20)\n",
    "axes.set_yticklabels([changingLabels(num) for num in ax.get_yticks()])\n",
    "axes.tick_params(labelsize = 15)\n",
    "\n",
    "plt.show()"
   ]
  },
  {
   "cell_type": "code",
   "execution_count": 4,
   "metadata": {},
   "outputs": [
    {
     "name": "stdout",
     "output_type": "stream",
     "text": [
      "Average Ratings on Day of Weeks\n",
      "DayOfWeek\n",
      "Friday       3.576426\n",
      "Monday       3.573257\n",
      "Saturday     3.585673\n",
      "Sunday       3.588731\n",
      "Thursday     3.577798\n",
      "Tuesday      3.570347\n",
      "Wednesday    3.578739\n",
      "Name: Ratings, dtype: float64\n"
     ]
    }
   ],
   "source": [
    "average_ratings_dayofweek = Train_Data.groupby(by = \"DayOfWeek\")[\"Ratings\"].mean()\n",
    "print(\"Average Ratings on Day of Weeks\")\n",
    "print(average_ratings_dayofweek)"
   ]
  },
  {
   "cell_type": "markdown",
   "metadata": {},
   "source": [
    "## Construct USER-ITEM Sparse Matrix using the training dataset"
   ]
  },
  {
   "cell_type": "code",
   "execution_count": 17,
   "metadata": {},
   "outputs": [
    {
     "name": "stdout",
     "output_type": "stream",
     "text": [
      "Constructing USER-ITEM sparse matrix for train Data\n",
      "Sparse Data is already present, no need to create further. Loading Sparse Matrix\n",
      "Shape of Train Sparse matrix = (2649430, 4500)\n",
      "0:00:02.310465\n"
     ]
    }
   ],
   "source": [
    "startTime = datetime.now()\n",
    "print(\"Constructing USER-ITEM sparse matrix for train Data\")\n",
    "if os.path.isfile(\"TrainUISparseData.npz\"):\n",
    "    print(\"Sparse Data is already present, no need to create further. Loading Sparse Matrix\")\n",
    "    TrainUISparseData = sparse.load_npz(\"TrainUISparseData.npz\")\n",
    "    print(\"Shape of Train Sparse matrix = \"+str(TrainUISparseData.shape))\n",
    "    \n",
    "else:\n",
    "    print(\"We are creating sparse data\")\n",
    "    TrainUISparseData = sparse.csr_matrix((Train_Data.Ratings, (Train_Data.CustID, Train_Data.MovieID)))\n",
    "    print(\"Creation done. Shape of sparse matrix = \"+str(TrainUISparseData.shape))\n",
    "    print(\"Saving it into disk for furthur usage.\")\n",
    "    sparse.save_npz(\"TrainUISparseData.npz\", TrainUISparseData)\n",
    "    print(\"Done\\n\")\n",
    "\n",
    "print(datetime.now() - startTime)"
   ]
  },
  {
   "cell_type": "code",
   "execution_count": 18,
   "metadata": {},
   "outputs": [
    {
     "name": "stdout",
     "output_type": "stream",
     "text": [
      "Creating USER-ITEM sparse matrix for test Data\n",
      "We are creating sparse data\n",
      "Creation done. Shape of sparse matrix = (2649430, 4500)\n",
      "Saving it into disk for furthur usage.\n",
      "Done\n",
      "\n",
      "0:00:09.607733\n"
     ]
    }
   ],
   "source": [
    "startTime = datetime.now()\n",
    "print(\"Creating USER-ITEM sparse matrix for test Data\")\n",
    "if os.path.isfile(\"TestUISparseData.npz\"):\n",
    "    print(\"Sparse Data is already present in your disk, no need to create further. Loading Sparse Matrix\")\n",
    "    TestUISparseData = sparse.load_npz(\"TestUISparseData.npz\")\n",
    "    print(\"Shape of Test Sparse Matrix = \"+str(TestUISparseData.shape))\n",
    "else:\n",
    "    print(\"We are creating sparse data\")\n",
    "    TestUISparseData = sparse.csr_matrix((Test_Data.Ratings, (Test_Data.CustID, Test_Data.MovieID)))\n",
    "    print(\"Creation done. Shape of sparse matrix = \"+str(TestUISparseData.shape))\n",
    "    print(\"Saving it into disk for furthur usage.\")\n",
    "    sparse.save_npz(\"TestUISparseData.npz\", TestUISparseData)\n",
    "    print(\"Done\\n\")\n",
    "\n",
    "print(datetime.now() - startTime)"
   ]
  },
  {
   "cell_type": "markdown",
   "metadata": {},
   "source": [
    "If you can see above that the shape of both train and test sparse matrices are same, furthermore, how come this shape of sparse matrix has arrived:\n",
    "Shape of sparse matrix depends on highest value of User ID and highest value of Movie ID. \n",
    "\n",
    "Now the user whose user ID is highest is present in both train data and test data. Similarly, the movie whose movie ID is highest is present in both train data and test data. Hence, shape of both train and test sparse matrices are same."
   ]
  },
  {
   "cell_type": "code",
   "execution_count": 19,
   "metadata": {},
   "outputs": [
    {
     "name": "stdout",
     "output_type": "stream",
     "text": [
      "Sparsity Of Train matrix : 99.83859831485766% \n"
     ]
    }
   ],
   "source": [
    "rows,cols = TrainUISparseData.shape\n",
    "presentElements = TrainUISparseData.count_nonzero()\n",
    "\n",
    "print(\"Sparsity Of Train matrix : {}% \".format((1-(presentElements/(rows*cols)))*100))"
   ]
  },
  {
   "cell_type": "code",
   "execution_count": 20,
   "metadata": {},
   "outputs": [
    {
     "name": "stdout",
     "output_type": "stream",
     "text": [
      "Sparsity Of Test matrix : 99.95964957661752% \n"
     ]
    }
   ],
   "source": [
    "rows,cols = TestUISparseData.shape\n",
    "presentElements = TestUISparseData.count_nonzero()\n",
    "\n",
    "print(\"Sparsity Of Test matrix : {}% \".format((1-(presentElements/(rows*cols)))*100))"
   ]
  },
  {
   "cell_type": "markdown",
   "metadata": {},
   "source": [
    "#### Finding Averages of movie ratings"
   ]
  },
  {
   "cell_type": "code",
   "execution_count": 21,
   "metadata": {},
   "outputs": [],
   "source": [
    "def getAverageRatings(sparseMatrix, if_user):\n",
    "    ax = 1 if if_user else 0\n",
    "    \n",
    "    #axis = 1 means rows and axis = 0 means columns \n",
    "    sumOfRatings = sparseMatrix.sum(axis = ax).A1  #this will give an array of sum of all the ratings of user if axis = 1 else \n",
    "    \n",
    "    #sum of all the ratings of movies if axis = 0\n",
    "    noOfRatings = (sparseMatrix!=0).sum(axis = ax).A1\n",
    "    #this will give a boolean True or False array, and True means 1 and False means 0, and \n",
    "    #further we are summing it to get the count of all the non-zero cells means length of non-zero cells\n",
    "    \n",
    "    rows, cols = sparseMatrix.shape\n",
    "    \n",
    "    averageRatings = {i: sumOfRatings[i]/noOfRatings[i] for i in range(rows if if_user else cols) if noOfRatings[i]!=0}\n",
    "    return averageRatings"
   ]
  },
  {
   "cell_type": "markdown",
   "metadata": {},
   "source": [
    "#### Global Average Rating"
   ]
  },
  {
   "cell_type": "code",
   "execution_count": 22,
   "metadata": {},
   "outputs": [
    {
     "name": "stdout",
     "output_type": "stream",
     "text": [
      "Global Average Rating 3.577584765710522\n"
     ]
    }
   ],
   "source": [
    "Global_Average_Rating = TrainUISparseData.sum()/TrainUISparseData.count_nonzero()\n",
    "print(\"Global Average Rating {}\".format(Global_Average_Rating))"
   ]
  },
  {
   "cell_type": "markdown",
   "metadata": {},
   "source": [
    "#### Average Rating Per User"
   ]
  },
  {
   "cell_type": "code",
   "execution_count": 23,
   "metadata": {},
   "outputs": [],
   "source": [
    "AvgRatingUser = getAverageRatings(TrainUISparseData, True)"
   ]
  },
  {
   "cell_type": "code",
   "execution_count": 25,
   "metadata": {},
   "outputs": [
    {
     "name": "stdout",
     "output_type": "stream",
     "text": [
      "Average rating of user 50 = 3.5\n"
     ]
    }
   ],
   "source": [
    "print(\"Average rating of user 50 = {}\".format(AvgRatingUser[25]))"
   ]
  },
  {
   "cell_type": "markdown",
   "metadata": {},
   "source": [
    "#### Average Rating Per Movie"
   ]
  },
  {
   "cell_type": "code",
   "execution_count": 26,
   "metadata": {},
   "outputs": [],
   "source": [
    "AvgRatingMovie = getAverageRatings(TrainUISparseData, False)"
   ]
  },
  {
   "cell_type": "code",
   "execution_count": 33,
   "metadata": {},
   "outputs": [
    {
     "name": "stdout",
     "output_type": "stream",
     "text": [
      "Average rating of movie 3500 = 3.615198810850985\n"
     ]
    }
   ],
   "source": [
    "print(\"Average rating of movie 3500 = {}\".format(AvgRatingMovie[3500]))"
   ]
  },
  {
   "cell_type": "markdown",
   "metadata": {},
   "source": [
    "#### PDF and CDF of Average Ratings of Users and Movies"
   ]
  },
  {
   "cell_type": "code",
   "execution_count": 34,
   "metadata": {},
   "outputs": [
    {
     "data": {
      "image/png": "[encoded data removed]",
      "text/plain": [
       "<Figure size 1152x504 with 2 Axes>"
      ]
     },
     "metadata": {},
     "output_type": "display_data"
    }
   ],
   "source": [
    "fig, axes = plt.subplots(nrows = 1, ncols = 2, figsize = (16, 7))\n",
    "fig.suptitle('Avg Ratings per User and per Movie', fontsize=25)\n",
    "\n",
    "user_average = [rats for rats in AvgRatingUser.values()]\n",
    "sns.distplot(user_average, hist = False, ax = axes[0], label = \"PDF\")\n",
    "sns.kdeplot(user_average, cumulative = True, ax = axes[0], label = \"CDF\")\n",
    "axes[0].set_title(\"Average Rating Per User\", fontsize=20)\n",
    "axes[0].tick_params(labelsize = 15)\n",
    "axes[0].legend(loc='upper left', fontsize = 17)\n",
    "\n",
    "movie_average = [ratm for ratm in AvgRatingMovie.values()]\n",
    "sns.distplot(movie_average, hist = False, ax = axes[1], label = \"PDF\")\n",
    "sns.kdeplot(movie_average, cumulative = True, ax = axes[1], label = \"CDF\")\n",
    "axes[1].set_title(\"Average Rating Per Movie\", fontsize=20)\n",
    "axes[1].tick_params(labelsize = 15)\n",
    "axes[1].legend(loc='upper left', fontsize = 17)\n",
    "\n",
    "plt.subplots_adjust(wspace=0.2, top=0.85)\n",
    "plt.show()"
   ]
  },
  {
   "cell_type": "markdown",
   "metadata": {},
   "source": [
    "#### Number of Movies and Users in the dataset (Cold Start Problem)"
   ]
  },
  {
   "cell_type": "code",
   "execution_count": 36,
   "metadata": {},
   "outputs": [
    {
     "name": "stdout",
     "output_type": "stream",
     "text": [
      "Total number of Users = 470758\n",
      "Number of Users in train data= 389223\n",
      "Number of Users not present in train data = 81535(17.0%)\n"
     ]
    }
   ],
   "source": [
    "total_users = len(np.unique(Final_Data[\"CustID\"]))\n",
    "train_users = len(AvgRatingUser)\n",
    "uncommonUsers = total_users - train_users\n",
    "                  \n",
    "print(\"Total number of Users = {}\".format(total_users))\n",
    "print(\"Number of Users in train data= {}\".format(train_users))\n",
    "print(\"Number of Users not present in train data = {}({}%)\".format(uncommonUsers, np.round((uncommonUsers/total_users)*100), 2))"
   ]
  },
  {
   "cell_type": "code",
   "execution_count": 37,
   "metadata": {},
   "outputs": [
    {
     "name": "stdout",
     "output_type": "stream",
     "text": [
      "Total number of Movies = 4499\n",
      "Number of Movies in train data= 4403\n",
      "Number of Movies not present in train data = 96(2.0%)\n"
     ]
    }
   ],
   "source": [
    "total_movies = len(np.unique(Final_Data[\"MovieID\"]))\n",
    "train_movies = len(AvgRatingMovie)\n",
    "uncommonMovies = total_movies - train_movies\n",
    "                  \n",
    "print(\"Total number of Movies = {}\".format(total_movies))\n",
    "print(\"Number of Movies in train data= {}\".format(train_movies))\n",
    "print(\"Number of Movies not present in train data = {}({}%)\".format(uncommonMovies, np.round((uncommonMovies/total_movies)*100), 2))"
   ]
  },
  {
   "cell_type": "markdown",
   "metadata": {},
   "source": [
    "### Computing the similarity matrix (Movie-Movie)"
   ]
  },
  {
   "cell_type": "code",
   "execution_count": 39,
   "metadata": {},
   "outputs": [
    {
     "name": "stdout",
     "output_type": "stream",
     "text": [
      "Movie-Movie Similarity file does not exist in your disk. Creating Movie-Movie Similarity Matrix...\n",
      "Done\n",
      "Dimension of Matrix = (4500, 4500)\n",
      "Storing the Movie Similarity matrix on disk for further usage\n",
      "0:00:57.107732\n"
     ]
    }
   ],
   "source": [
    "start = datetime.now()\n",
    "\n",
    "if not os.path.isfile(\"m_m_similarity.npz\"):\n",
    "    print(\"Movie-Movie Similarity file does not exist in your disk. Creating Movie-Movie Similarity Matrix...\")\n",
    "    \n",
    "    m_m_similarity = cosine_similarity(TrainUISparseData.T, dense_output = False)\n",
    "    print(\"Done\")\n",
    "    print(\"Dimension of Matrix = {}\".format(m_m_similarity.shape))\n",
    "    print(\"Storing the Movie Similarity matrix on disk for further usage\")\n",
    "    sparse.save_npz(\"m_m_similarity.npz\", m_m_similarity)\n",
    "else:\n",
    "    print(\"File exists in the disk. Loading the file...\")\n",
    "    m_m_similarity = sparse.load_npz(\"../Data/m_m_similarity.npz\")\n",
    "    print(\"Dimension of Matrix = {}\".format(m_m_similarity.shape))\n",
    "    \n",
    "print(datetime.now() - start)"
   ]
  },
  {
   "cell_type": "markdown",
   "metadata": {},
   "source": [
    "#### Testing the Movie-Movie Similarity on the dataset"
   ]
  },
  {
   "cell_type": "code",
   "execution_count": 40,
   "metadata": {},
   "outputs": [],
   "source": [
    "movie_ids = np.unique(m_m_similarity.nonzero())"
   ]
  },
  {
   "cell_type": "code",
   "execution_count": 41,
   "metadata": {},
   "outputs": [],
   "source": [
    "# Creates a dictionary object of all movies similar to every movie\n",
    "similar_movies_dict = dict()\n",
    "for movie in movie_ids:\n",
    "    smlr = np.argsort(-m_m_similarity[movie].toarray().ravel())[1:100]\n",
    "    similar_movies_dict[movie] = smlr"
   ]
  },
  {
   "cell_type": "code",
   "execution_count": 42,
   "metadata": {},
   "outputs": [],
   "source": [
    "movie_titles_df = pd.read_csv(\"movie_titles.csv\",sep = \",\", header = None, names=['MovieID', 'Year_of_Release', 'Movie_Title'], index_col = \"MovieID\", encoding = \"iso8859_2\")"
   ]
  },
  {
   "cell_type": "code",
   "execution_count": 43,
   "metadata": {},
   "outputs": [
    {
     "data": {
      "text/html": [
       "<div>\n",
       "<style scoped>\n",
       "    .dataframe tbody tr th:only-of-type {\n",
       "        vertical-align: middle;\n",
       "    }\n",
       "\n",
       "    .dataframe tbody tr th {\n",
       "        vertical-align: top;\n",
       "    }\n",
       "\n",
       "    .dataframe thead th {\n",
       "        text-align: right;\n",
       "    }\n",
       "</style>\n",
       "<table border=\"1\" class=\"dataframe\">\n",
       "  <thead>\n",
       "    <tr style=\"text-align: right;\">\n",
       "      <th></th>\n",
       "      <th>Year_of_Release</th>\n",
       "      <th>Movie_Title</th>\n",
       "    </tr>\n",
       "    <tr>\n",
       "      <th>MovieID</th>\n",
       "      <th></th>\n",
       "      <th></th>\n",
       "    </tr>\n",
       "  </thead>\n",
       "  <tbody>\n",
       "    <tr>\n",
       "      <th>1</th>\n",
       "      <td>2003.0</td>\n",
       "      <td>Dinosaur Planet</td>\n",
       "    </tr>\n",
       "    <tr>\n",
       "      <th>2</th>\n",
       "      <td>2004.0</td>\n",
       "      <td>Isle of Man TT 2004 Review</td>\n",
       "    </tr>\n",
       "    <tr>\n",
       "      <th>3</th>\n",
       "      <td>1997.0</td>\n",
       "      <td>Character</td>\n",
       "    </tr>\n",
       "    <tr>\n",
       "      <th>4</th>\n",
       "      <td>1994.0</td>\n",
       "      <td>Paula Abdul's Get Up &amp; Dance</td>\n",
       "    </tr>\n",
       "    <tr>\n",
       "      <th>5</th>\n",
       "      <td>2004.0</td>\n",
       "      <td>The Rise and Fall of ECW</td>\n",
       "    </tr>\n",
       "  </tbody>\n",
       "</table>\n",
       "</div>"
      ],
      "text/plain": [
       "         Year_of_Release                   Movie_Title\n",
       "MovieID                                               \n",
       "1                 2003.0               Dinosaur Planet\n",
       "2                 2004.0    Isle of Man TT 2004 Review\n",
       "3                 1997.0                     Character\n",
       "4                 1994.0  Paula Abdul's Get Up & Dance\n",
       "5                 2004.0      The Rise and Fall of ECW"
      ]
     },
     "execution_count": 43,
     "metadata": {},
     "output_type": "execute_result"
    }
   ],
   "source": [
    "movie_titles_df.head()"
   ]
  },
  {
   "cell_type": "markdown",
   "metadata": {},
   "source": [
    "#### Finding Similar movies based on Sparse Data"
   ]
  },
  {
   "cell_type": "code",
   "execution_count": 44,
   "metadata": {},
   "outputs": [
    {
     "data": {
      "text/plain": [
       "'The Avengers'"
      ]
     },
     "execution_count": 44,
     "metadata": {},
     "output_type": "execute_result"
    }
   ],
   "source": [
    "str(movie_titles_df.loc[289][1])"
   ]
  },
  {
   "cell_type": "code",
   "execution_count": 45,
   "metadata": {},
   "outputs": [
    {
     "name": "stdout",
     "output_type": "stream",
     "text": [
      "Name of the movie -------> The Avengers\n",
      "Number of ratings by users for movie The Avengers is 3838\n",
      "Number of similar movies to The Avengers is 4389\n"
     ]
    }
   ],
   "source": [
    "movieID_TA = 289\n",
    "\n",
    "print(\"Name of the movie -------> \"+str(movie_titles_df.loc[movieID_TA][1]))\n",
    "\n",
    "print(\"Number of ratings by users for movie {} is {}\".format(movie_titles_df.loc[movieID_TA][1], TrainUISparseData[:,movieID_TA].getnnz()))\n",
    "\n",
    "print(\"Number of similar movies to {} is {}\".format(movie_titles_df.loc[movieID_TA][1], m_m_similarity[movieID_TA].count_nonzero()))"
   ]
  },
  {
   "cell_type": "code",
   "execution_count": 46,
   "metadata": {},
   "outputs": [],
   "source": [
    "all_similar = sorted(m_m_similarity[movieID_TA].toarray().ravel(), reverse = True)[1:]\n",
    "\n",
    "similar_100 = all_similar[:101]"
   ]
  },
  {
   "cell_type": "code",
   "execution_count": 47,
   "metadata": {},
   "outputs": [
    {
     "data": {
      "image/png": "[encoded data removed]",
      "text/plain": [
       "<Figure size 720x576 with 1 Axes>"
      ]
     },
     "metadata": {},
     "output_type": "display_data"
    }
   ],
   "source": [
    "plt.figure(figsize = (10, 8))\n",
    "plt.plot(all_similar, label = \"All Similar\")\n",
    "plt.plot(similar_100, label = \"Top 100 Similar Movies\")\n",
    "plt.title(\"Similar Movies to The Avengers\", fontsize = 25)\n",
    "plt.ylabel(\"Cosine Similarity Values\", fontsize = 20)\n",
    "plt.tick_params(labelsize = 15)\n",
    "plt.legend(fontsize = 20)\n",
    "plt.show()"
   ]
  },
  {
   "cell_type": "markdown",
   "metadata": {},
   "source": [
    "#### Finding movies similar to The Avengers"
   ]
  },
  {
   "cell_type": "code",
   "execution_count": 48,
   "metadata": {},
   "outputs": [
    {
     "data": {
      "text/html": [
       "<div>\n",
       "<style scoped>\n",
       "    .dataframe tbody tr th:only-of-type {\n",
       "        vertical-align: middle;\n",
       "    }\n",
       "\n",
       "    .dataframe tbody tr th {\n",
       "        vertical-align: top;\n",
       "    }\n",
       "\n",
       "    .dataframe thead th {\n",
       "        text-align: right;\n",
       "    }\n",
       "</style>\n",
       "<table border=\"1\" class=\"dataframe\">\n",
       "  <thead>\n",
       "    <tr style=\"text-align: right;\">\n",
       "      <th></th>\n",
       "      <th>Year_of_Release</th>\n",
       "      <th>Movie_Title</th>\n",
       "    </tr>\n",
       "    <tr>\n",
       "      <th>MovieID</th>\n",
       "      <th></th>\n",
       "      <th></th>\n",
       "    </tr>\n",
       "  </thead>\n",
       "  <tbody>\n",
       "    <tr>\n",
       "      <th>993</th>\n",
       "      <td>1994.0</td>\n",
       "      <td>The Shadow</td>\n",
       "    </tr>\n",
       "    <tr>\n",
       "      <th>548</th>\n",
       "      <td>1991.0</td>\n",
       "      <td>Hudson Hawk</td>\n",
       "    </tr>\n",
       "    <tr>\n",
       "      <th>2163</th>\n",
       "      <td>1999.0</td>\n",
       "      <td>Mystery Men</td>\n",
       "    </tr>\n",
       "    <tr>\n",
       "      <th>58</th>\n",
       "      <td>1996.0</td>\n",
       "      <td>Dragonheart</td>\n",
       "    </tr>\n",
       "    <tr>\n",
       "      <th>4171</th>\n",
       "      <td>1996.0</td>\n",
       "      <td>Mars Attacks!</td>\n",
       "    </tr>\n",
       "    <tr>\n",
       "      <th>393</th>\n",
       "      <td>1998.0</td>\n",
       "      <td>The Replacement Killers</td>\n",
       "    </tr>\n",
       "    <tr>\n",
       "      <th>1693</th>\n",
       "      <td>1998.0</td>\n",
       "      <td>Sphere</td>\n",
       "    </tr>\n",
       "    <tr>\n",
       "      <th>811</th>\n",
       "      <td>1992.0</td>\n",
       "      <td>The Lawnmower Man</td>\n",
       "    </tr>\n",
       "    <tr>\n",
       "      <th>686</th>\n",
       "      <td>2000.0</td>\n",
       "      <td>Bedazzled</td>\n",
       "    </tr>\n",
       "    <tr>\n",
       "      <th>4418</th>\n",
       "      <td>2000.0</td>\n",
       "      <td>Titan A.E.</td>\n",
       "    </tr>\n",
       "  </tbody>\n",
       "</table>\n",
       "</div>"
      ],
      "text/plain": [
       "         Year_of_Release              Movie_Title\n",
       "MovieID                                          \n",
       "993               1994.0               The Shadow\n",
       "548               1991.0              Hudson Hawk\n",
       "2163              1999.0              Mystery Men\n",
       "58                1996.0              Dragonheart\n",
       "4171              1996.0            Mars Attacks!\n",
       "393               1998.0  The Replacement Killers\n",
       "1693              1998.0                   Sphere\n",
       "811               1992.0        The Lawnmower Man\n",
       "686               2000.0                Bedazzled\n",
       "4418              2000.0               Titan A.E."
      ]
     },
     "execution_count": 48,
     "metadata": {},
     "output_type": "execute_result"
    }
   ],
   "source": [
    "movie_titles_df.loc[similar_movies_dict[movieID_TA][:10]]"
   ]
  },
  {
   "cell_type": "markdown",
   "metadata": {},
   "source": [
    "#### This confirms that the movie-movie similarity matrix is working."
   ]
  },
  {
   "cell_type": "markdown",
   "metadata": {},
   "source": [
    "### Machine Learning Models "
   ]
  },
  {
   "cell_type": "code",
   "execution_count": 50,
   "metadata": {},
   "outputs": [],
   "source": [
    "def get_sample_sparse_matrix(sparseMatrix, n_users, n_movies):\n",
    "    startTime = datetime.now()\n",
    "    users, movies, ratings = sparse.find(sparseMatrix)\n",
    "    uniq_users = np.unique(users)\n",
    "    uniq_movies = np.unique(movies)\n",
    "    np.random.seed(15)\n",
    "    userS = np.random.choice(uniq_users, n_users, replace = False)\n",
    "    movieS = np.random.choice(uniq_movies, n_movies, replace = False)\n",
    "    mask = np.logical_and(np.isin(users, userS), np.isin(movies, movieS))\n",
    "    sparse_sample = sparse.csr_matrix((ratings[mask], (users[mask], movies[mask])), \n",
    "                                                     shape = (max(userS)+1, max(movieS)+1))\n",
    "    print(\"Sparse Matrix creation done. Saving it for later use.\")\n",
    "    sparse.save_npz(path, sparse_sample)\n",
    "    print(\"Done\")\n",
    "    print(\"Shape of Sparse Sampled Matrix = \"+str(sparse_sample.shape))\n",
    "    \n",
    "    print(datetime.now() - start)\n",
    "    return sparse_sample"
   ]
  },
  {
   "cell_type": "markdown",
   "metadata": {},
   "source": [
    "#### Creating Sample Sparse Matrix for Train Data"
   ]
  },
  {
   "cell_type": "code",
   "execution_count": 116,
   "metadata": {},
   "outputs": [
    {
     "name": "stdout",
     "output_type": "stream",
     "text": [
      "File is already present in the disk. Loading the file...\n",
      "File loading done.\n",
      "Shape of Train Sample Sparse Matrix = (2649094, 4486)\n",
      "Size of sparse csr_matrix: 0.02 MB\n"
     ]
    }
   ],
   "source": [
    "path = \"TrainUISparseData_Sample.npz\"\n",
    "if not os.path.isfile(path):\n",
    "    print(\"Sample sparse matrix is not present in the disk. We are creating it...\")\n",
    "    train_sample_sparse = get_sample_sparse_matrix(TrainUISparseData, 4000, 400)\n",
    "else:\n",
    "    print(\"File is already present in the disk. Loading the file...\")\n",
    "    train_sample_sparse = sparse.load_npz(path)\n",
    "    print(\"File loading done.\")\n",
    "    print(\"Shape of Train Sample Sparse Matrix = \"+str(train_sample_sparse.shape))\n",
    "    data_csr_size = train_sample_sparse.data.size/(1024**2)\n",
    "    print('Size of sparse csr_matrix: '+ '%3.2f' %data_csr_size + ' MB')"
   ]
  },
  {
   "cell_type": "markdown",
   "metadata": {},
   "source": [
    "#### Creating Sample Sparse Matrix for Test Data"
   ]
  },
  {
   "cell_type": "code",
   "execution_count": 52,
   "metadata": {},
   "outputs": [
    {
     "name": "stdout",
     "output_type": "stream",
     "text": [
      "Sample sparse matrix is not present in the disk. We are creating it...\n",
      "Sparse Matrix creation done. Saving it for later use.\n",
      "Done\n",
      "Shape of Sparse Sampled Matrix = (2648854, 4483)\n",
      "0:20:00.089954\n"
     ]
    }
   ],
   "source": [
    "path = \"TestUISparseData_Sample.npz\"\n",
    "if not os.path.isfile(path):\n",
    "    print(\"Sample sparse matrix is not present in the disk. We are creating it...\")\n",
    "    test_sample_sparse = get_sample_sparse_matrix(TestUISparseData, 2000, 200)\n",
    "else:\n",
    "    print(\"File is already present in the disk. Loading the file...\")\n",
    "    test_sample_sparse = sparse.load_npz(path)\n",
    "    print(\"File loading done.\")\n",
    "    print(\"Shape of Test Sample Sparse Matrix = \"+str(test_sample_sparse.shape))"
   ]
  },
  {
   "cell_type": "markdown",
   "metadata": {},
   "source": [
    "#### Finding Averages of all movie ratings from Sampled Train "
   ]
  },
  {
   "cell_type": "code",
   "execution_count": 53,
   "metadata": {},
   "outputs": [
    {
     "name": "stdout",
     "output_type": "stream",
     "text": [
      "Global average of all movies ratings in Train Sample Sparse is 3.62\n"
     ]
    }
   ],
   "source": [
    "print(\"Global average of all movies ratings in Train Sample Sparse is {}\".format(np.round((train_sample_sparse.sum()/train_sample_sparse.count_nonzero()), 2)))"
   ]
  },
  {
   "cell_type": "markdown",
   "metadata": {},
   "source": [
    "#### Finding Average of ratings for a movie"
   ]
  },
  {
   "cell_type": "code",
   "execution_count": 59,
   "metadata": {},
   "outputs": [
    {
     "name": "stdout",
     "output_type": "stream",
     "text": [
      "Average move rating for movie 3433 is 3.4338842975206614\n"
     ]
    }
   ],
   "source": [
    "globalAvgMovies = getAverageRatings(train_sample_sparse, False)\n",
    "print(\"Average move rating for movie 3433 is {}\".format(globalAvgMovies[3433]))"
   ]
  },
  {
   "cell_type": "markdown",
   "metadata": {},
   "source": [
    "#### Finding Average rating per User"
   ]
  },
  {
   "cell_type": "code",
   "execution_count": 62,
   "metadata": {},
   "outputs": [
    {
     "name": "stdout",
     "output_type": "stream",
     "text": [
      "Average user rating for user 4229 is 3.7142857142857144\n"
     ]
    }
   ],
   "source": [
    "globalAvgUsers = getAverageRatings(train_sample_sparse, True)\n",
    "print(\"Average user rating for user 4229 is {}\".format(globalAvgUsers[4229]))"
   ]
  },
  {
   "cell_type": "markdown",
   "metadata": {},
   "source": [
    "#### Featurizing data"
   ]
  },
  {
   "cell_type": "code",
   "execution_count": 63,
   "metadata": {},
   "outputs": [
    {
     "name": "stdout",
     "output_type": "stream",
     "text": [
      "No of ratings in Our Sampled train matrix is : 22326\n",
      "No of ratings in Our Sampled test matrix is : 1358\n"
     ]
    }
   ],
   "source": [
    "print(\"No of ratings in Our Sampled train matrix is : {}\".format(train_sample_sparse.count_nonzero()))\n",
    "print(\"No of ratings in Our Sampled test matrix is : {}\".format(test_sample_sparse.count_nonzero()))"
   ]
  },
  {
   "cell_type": "markdown",
   "metadata": {},
   "source": [
    "#### Featurizing data for regression problem"
   ]
  },
  {
   "cell_type": "markdown",
   "metadata": {},
   "source": [
    "#### Featurizing Train Data"
   ]
  },
  {
   "cell_type": "code",
   "execution_count": 64,
   "metadata": {},
   "outputs": [],
   "source": [
    "sample_train_users, sample_train_movies, sample_train_ratings = sparse.find(train_sample_sparse)"
   ]
  },
  {
   "cell_type": "code",
   "execution_count": 24,
   "metadata": {},
   "outputs": [
    {
     "name": "stdout",
     "output_type": "stream",
     "text": [
      "File is already present in your disk. You do not have to prepare it again.\n"
     ]
    }
   ],
   "source": [
    "if os.path.isfile(\"Train_Regression.csv\"):\n",
    "    print(\"File is already present in your disk. You do not have to prepare it again.\")\n",
    "else:\n",
    "    startTime = datetime.now()\n",
    "    print(\"Preparing Train csv file for {} rows\".format(len(sample_train_ratings)))\n",
    "    with open(\"Train_Regression.csv\", mode = \"w\") as data:\n",
    "        count = 0\n",
    "        for user, movie, rating in zip(sample_train_users, sample_train_movies, sample_train_ratings):\n",
    "            row = list()\n",
    "            row.append(user)  #appending user ID\n",
    "            row.append(movie) #appending movie ID\n",
    "            row.append(train_sample_sparse.sum()/train_sample_sparse.count_nonzero()) #appending global average rating\n",
    "\n",
    "#----------------------------------Ratings given to \"movie\" by top 5 similar users with \"user\"--------------------#\n",
    "            similar_users = cosine_similarity(train_sample_sparse[user], train_sample_sparse).ravel()\n",
    "            similar_users_indices = np.argsort(-similar_users)[1:]\n",
    "            similar_users_ratings = train_sample_sparse[similar_users_indices, movie].toarray().ravel()\n",
    "            top_similar_user_ratings = list(similar_users_ratings[similar_users_ratings != 0][:5])\n",
    "            top_similar_user_ratings.extend([globalAvgMovies[movie]]*(5-len(top_similar_user_ratings)))\n",
    "            row.extend(top_similar_user_ratings)\n",
    "            \n",
    " #----------------------------------Ratings given by \"user\" to top 5 similar movies with \"movie\"------------------#\n",
    "            similar_movies = cosine_similarity(train_sample_sparse[:,movie].T, train_sample_sparse.T).ravel()\n",
    "            similar_movies_indices = np.argsort(-similar_movies)[1:]\n",
    "            similar_movies_ratings = train_sample_sparse[user, similar_movies_indices].toarray().ravel()\n",
    "            top_similar_movie_ratings = list(similar_movies_ratings[similar_movies_ratings != 0][:5])\n",
    "            top_similar_movie_ratings.extend([globalAvgUsers[user]]*(5-len(top_similar_movie_ratings)))\n",
    "            row.extend(top_similar_movie_ratings)\n",
    "            \n",
    " #----------------------------------Appending \"user\" average, \"movie\" average & rating of \"user\"\"movie\"-----------#\n",
    "            row.append(globalAvgUsers[user])\n",
    "            row.append(globalAvgMovies[movie])\n",
    "            row.append(rating)\n",
    "            \n",
    "#-----------------------------------Converting rows and appending them as comma separated values to csv file------#\n",
    "            data.write(\",\".join(map(str, row)))\n",
    "            data.write(\"\\n\")\n",
    "    \n",
    "            count += 1\n",
    "            if count % 2000 == 0:\n",
    "                print(\"Done for {}. Time elapsed: {}\".format(count, (datetime.now() - startTime)))\n",
    "                \n",
    "    print(\"Total Time for {} rows = {}\".format(len(sample_train_ratings), (datetime.now() - startTime)))"
   ]
  },
  {
   "cell_type": "code",
   "execution_count": 66,
   "metadata": {},
   "outputs": [
    {
     "data": {
      "text/html": [
       "<div>\n",
       "<style scoped>\n",
       "    .dataframe tbody tr th:only-of-type {\n",
       "        vertical-align: middle;\n",
       "    }\n",
       "\n",
       "    .dataframe tbody tr th {\n",
       "        vertical-align: top;\n",
       "    }\n",
       "\n",
       "    .dataframe thead th {\n",
       "        text-align: right;\n",
       "    }\n",
       "</style>\n",
       "<table border=\"1\" class=\"dataframe\">\n",
       "  <thead>\n",
       "    <tr style=\"text-align: right;\">\n",
       "      <th></th>\n",
       "      <th>User_ID</th>\n",
       "      <th>Movie_ID</th>\n",
       "      <th>Global_Average</th>\n",
       "      <th>SUR1</th>\n",
       "      <th>SUR2</th>\n",
       "      <th>SUR3</th>\n",
       "      <th>SUR4</th>\n",
       "      <th>SUR5</th>\n",
       "      <th>SMR1</th>\n",
       "      <th>SMR2</th>\n",
       "      <th>SMR3</th>\n",
       "      <th>SMR4</th>\n",
       "      <th>SMR5</th>\n",
       "      <th>User_Average</th>\n",
       "      <th>Movie_Average</th>\n",
       "      <th>Rating</th>\n",
       "    </tr>\n",
       "  </thead>\n",
       "  <tbody>\n",
       "    <tr>\n",
       "      <th>0</th>\n",
       "      <td>4315</td>\n",
       "      <td>70</td>\n",
       "      <td>3.622772</td>\n",
       "      <td>4.0</td>\n",
       "      <td>3.0</td>\n",
       "      <td>3.333333</td>\n",
       "      <td>3.333333</td>\n",
       "      <td>3.333333</td>\n",
       "      <td>4.0</td>\n",
       "      <td>4.0</td>\n",
       "      <td>4.0</td>\n",
       "      <td>5.0</td>\n",
       "      <td>4.0</td>\n",
       "      <td>4.080000</td>\n",
       "      <td>3.333333</td>\n",
       "      <td>3</td>\n",
       "    </tr>\n",
       "    <tr>\n",
       "      <th>1</th>\n",
       "      <td>303087</td>\n",
       "      <td>70</td>\n",
       "      <td>3.622772</td>\n",
       "      <td>4.0</td>\n",
       "      <td>3.0</td>\n",
       "      <td>3.333333</td>\n",
       "      <td>3.333333</td>\n",
       "      <td>3.333333</td>\n",
       "      <td>3.0</td>\n",
       "      <td>3.0</td>\n",
       "      <td>2.0</td>\n",
       "      <td>3.0</td>\n",
       "      <td>5.0</td>\n",
       "      <td>3.322581</td>\n",
       "      <td>3.333333</td>\n",
       "      <td>3</td>\n",
       "    </tr>\n",
       "    <tr>\n",
       "      <th>2</th>\n",
       "      <td>1287490</td>\n",
       "      <td>70</td>\n",
       "      <td>3.622772</td>\n",
       "      <td>3.0</td>\n",
       "      <td>3.0</td>\n",
       "      <td>3.333333</td>\n",
       "      <td>3.333333</td>\n",
       "      <td>3.333333</td>\n",
       "      <td>5.0</td>\n",
       "      <td>5.0</td>\n",
       "      <td>3.0</td>\n",
       "      <td>5.0</td>\n",
       "      <td>1.0</td>\n",
       "      <td>3.729730</td>\n",
       "      <td>3.333333</td>\n",
       "      <td>4</td>\n",
       "    </tr>\n",
       "    <tr>\n",
       "      <th>3</th>\n",
       "      <td>508662</td>\n",
       "      <td>74</td>\n",
       "      <td>3.622772</td>\n",
       "      <td>4.0</td>\n",
       "      <td>3.0</td>\n",
       "      <td>4.000000</td>\n",
       "      <td>4.000000</td>\n",
       "      <td>4.000000</td>\n",
       "      <td>5.0</td>\n",
       "      <td>5.0</td>\n",
       "      <td>4.0</td>\n",
       "      <td>5.0</td>\n",
       "      <td>5.0</td>\n",
       "      <td>3.842105</td>\n",
       "      <td>4.000000</td>\n",
       "      <td>5</td>\n",
       "    </tr>\n",
       "    <tr>\n",
       "      <th>4</th>\n",
       "      <td>2335663</td>\n",
       "      <td>74</td>\n",
       "      <td>3.622772</td>\n",
       "      <td>5.0</td>\n",
       "      <td>3.0</td>\n",
       "      <td>4.000000</td>\n",
       "      <td>4.000000</td>\n",
       "      <td>4.000000</td>\n",
       "      <td>2.0</td>\n",
       "      <td>5.0</td>\n",
       "      <td>5.0</td>\n",
       "      <td>4.0</td>\n",
       "      <td>3.0</td>\n",
       "      <td>3.833333</td>\n",
       "      <td>4.000000</td>\n",
       "      <td>4</td>\n",
       "    </tr>\n",
       "  </tbody>\n",
       "</table>\n",
       "</div>"
      ],
      "text/plain": [
       "   User_ID  Movie_ID  Global_Average  SUR1  SUR2      SUR3      SUR4  \\\n",
       "0     4315        70        3.622772   4.0   3.0  3.333333  3.333333   \n",
       "1   303087        70        3.622772   4.0   3.0  3.333333  3.333333   \n",
       "2  1287490        70        3.622772   3.0   3.0  3.333333  3.333333   \n",
       "3   508662        74        3.622772   4.0   3.0  4.000000  4.000000   \n",
       "4  2335663        74        3.622772   5.0   3.0  4.000000  4.000000   \n",
       "\n",
       "       SUR5  SMR1  SMR2  SMR3  SMR4  SMR5  User_Average  Movie_Average  Rating  \n",
       "0  3.333333   4.0   4.0   4.0   5.0   4.0      4.080000       3.333333       3  \n",
       "1  3.333333   3.0   3.0   2.0   3.0   5.0      3.322581       3.333333       3  \n",
       "2  3.333333   5.0   5.0   3.0   5.0   1.0      3.729730       3.333333       4  \n",
       "3  4.000000   5.0   5.0   4.0   5.0   5.0      3.842105       4.000000       5  \n",
       "4  4.000000   2.0   5.0   5.0   4.0   3.0      3.833333       4.000000       4  "
      ]
     },
     "execution_count": 66,
     "metadata": {},
     "output_type": "execute_result"
    }
   ],
   "source": [
    "Train_Reg = pd.read_csv(\"Train_Regression.csv\", names = [\"User_ID\", \"Movie_ID\", \"Global_Average\", \"SUR1\", \"SUR2\", \"SUR3\", \"SUR4\", \"SUR5\", \"SMR1\", \"SMR2\", \"SMR3\", \"SMR4\", \"SMR5\", \"User_Average\", \"Movie_Average\", \"Rating\"])\n",
    "Train_Reg.head()"
   ]
  },
  {
   "cell_type": "code",
   "execution_count": 67,
   "metadata": {},
   "outputs": [
    {
     "name": "stdout",
     "output_type": "stream",
     "text": [
      "Number of nan Values = 0\n"
     ]
    }
   ],
   "source": [
    "print(\"Number of nan Values = \"+str(Train_Reg.isnull().sum().sum()))"
   ]
  },
  {
   "cell_type": "code",
   "execution_count": 68,
   "metadata": {},
   "outputs": [
    {
     "name": "stdout",
     "output_type": "stream",
     "text": [
      "Shape of Train DataFrame = (22326, 16)\n"
     ]
    }
   ],
   "source": [
    "print(\"Shape of Train DataFrame = {}\".format(Train_Reg.shape))"
   ]
  },
  {
   "cell_type": "markdown",
   "metadata": {},
   "source": [
    "User_ID: ID of a this User\n",
    "\n",
    "Movie_ID: ID of a this Movie\n",
    "\n",
    "Global_Average: Global Average Rating\n",
    "\n",
    "Ratings given to this Movie by top 5 similar users with this User: (SUR1, SUR2, SUR3, SUR4, SUR5)\n",
    "\n",
    "Ratings given by this User to top 5 similar movies with this Movie: (SMR1, SMR2, SMR3, SMR4, SMR5)\n",
    "\n",
    "User_Average: Average Rating of this User\n",
    "\n",
    "Movie_Average: Average Rating of this Movie\n",
    "\n",
    "Rating: Rating given by this User to this Movie"
   ]
  },
  {
   "cell_type": "markdown",
   "metadata": {},
   "source": [
    "#### Featurizing Test Data"
   ]
  },
  {
   "cell_type": "code",
   "execution_count": 69,
   "metadata": {},
   "outputs": [],
   "source": [
    "sample_test_users, sample_test_movies, sample_test_ratings = sparse.find(test_sample_sparse)"
   ]
  },
  {
   "cell_type": "code",
   "execution_count": 70,
   "metadata": {},
   "outputs": [
    {
     "name": "stdout",
     "output_type": "stream",
     "text": [
      "Preparing Test csv file for 1358 rows\n",
      "Done for 100. Time elapsed: 0:00:21.653039\n",
      "Done for 200. Time elapsed: 0:00:43.875049\n",
      "Done for 300. Time elapsed: 0:01:05.982049\n",
      "Done for 400. Time elapsed: 0:01:28.103052\n",
      "Done for 500. Time elapsed: 0:01:50.074999\n",
      "Done for 600. Time elapsed: 0:02:12.217051\n",
      "Done for 700. Time elapsed: 0:02:34.691051\n",
      "Done for 800. Time elapsed: 0:02:56.918041\n",
      "Done for 900. Time elapsed: 0:03:19.228051\n",
      "Done for 1000. Time elapsed: 0:03:41.534035\n",
      "Done for 1100. Time elapsed: 0:04:03.492048\n",
      "Done for 1200. Time elapsed: 0:04:25.418038\n",
      "Done for 1300. Time elapsed: 0:04:47.824999\n",
      "Total Time for 1358 rows = 0:05:00.710036\n"
     ]
    }
   ],
   "source": [
    "if os.path.isfile(\"Test_Regression.csv\"):\n",
    "    print(\"File is already present in your disk. You do not have to prepare it again.\")\n",
    "else:\n",
    "    startTime = datetime.now()\n",
    "    print(\"Preparing Test csv file for {} rows\".format(len(sample_test_ratings)))\n",
    "    with open(\"Test_Regression.csv\", mode = \"w\") as data:\n",
    "        count = 0\n",
    "        for user, movie, rating in zip(sample_test_users, sample_test_movies, sample_test_ratings):\n",
    "            row = list()\n",
    "            row.append(user)  #appending user ID\n",
    "            row.append(movie) #appending movie ID\n",
    "            row.append(train_sample_sparse.sum()/train_sample_sparse.count_nonzero()) #appending global average rating\n",
    "\n",
    "#-----------------------------Ratings given to \"movie\" by top 5 similar users with \"user\"-------------------------#\n",
    "            try:\n",
    "                similar_users = cosine_similarity(train_sample_sparse[user], train_sample_sparse).ravel()\n",
    "                similar_users_indices = np.argsort(-similar_users)[1:]\n",
    "                similar_users_ratings = train_sample_sparse[similar_users_indices, movie].toarray().ravel()\n",
    "                top_similar_user_ratings = list(similar_users_ratings[similar_users_ratings != 0][:5])\n",
    "                top_similar_user_ratings.extend([globalAvgMovies[movie]]*(5-len(top_similar_user_ratings)))\n",
    "                row.extend(top_similar_user_ratings)   \n",
    "            except(IndexError, KeyError):\n",
    "                global_average_train_rating = [train_sample_sparse.sum()/train_sample_sparse.count_nonzero()]*5\n",
    "                row.extend(global_average_train_rating)\n",
    "            except:\n",
    "                raise\n",
    "                \n",
    " #-----------------------------Ratings given by \"user\" to top 5 similar movies with \"movie\"-----------------------#\n",
    "            try:\n",
    "                similar_movies = cosine_similarity(train_sample_sparse[:,movie].T, train_sample_sparse.T).ravel()\n",
    "                similar_movies_indices = np.argsort(-similar_movies)[1:]\n",
    "                similar_movies_ratings = train_sample_sparse[user, similar_movies_indices].toarray().ravel()\n",
    "                top_similar_movie_ratings = list(similar_movies_ratings[similar_movies_ratings != 0][:5])\n",
    "                top_similar_movie_ratings.extend([globalAvgUsers[user]]*(5-len(top_similar_movie_ratings)))\n",
    "                #above line means that if top 5 ratings are not available then rest of the ratings will be filled by \"user\" \n",
    "                #average rating. Let say only 3 out of 5 ratings are available then rest 2 will be \"user\" average rating.\n",
    "                row.extend(top_similar_movie_ratings)\n",
    "            #########Cold Start Problem, for a new user or a new movie#########\n",
    "            except(IndexError, KeyError):\n",
    "                global_average_train_rating = [train_sample_sparse.sum()/train_sample_sparse.count_nonzero()]*5\n",
    "                row.extend(global_average_train_rating)\n",
    "            except:\n",
    "                raise\n",
    "                \n",
    " #-----------------------------Appending \"user\" average, \"movie\" average & rating of \"user\"\"movie\"----------------#\n",
    "            try:        \n",
    "                row.append(globalAvgUsers[user])\n",
    "            except (KeyError):\n",
    "                global_average_train_rating = train_sample_sparse.sum()/train_sample_sparse.count_nonzero()\n",
    "                row.append(global_average_train_rating)\n",
    "            except:\n",
    "                raise\n",
    "                \n",
    "            try:\n",
    "                row.append(globalAvgMovies[movie])\n",
    "            except(KeyError):\n",
    "                global_average_train_rating = train_sample_sparse.sum()/train_sample_sparse.count_nonzero()\n",
    "                row.append(global_average_train_rating)\n",
    "            except:\n",
    "                raise\n",
    "                \n",
    "            row.append(rating)\n",
    "            \n",
    "#------------------------------Converting rows and appending them as comma separated values to csv file-----------#\n",
    "            data.write(\",\".join(map(str, row)))\n",
    "            data.write(\"\\n\")\n",
    "    \n",
    "            count += 1\n",
    "            if count % 100 == 0:\n",
    "                print(\"Done for {}. Time elapsed: {}\".format(count, (datetime.now() - startTime)))\n",
    "                \n",
    "    print(\"Total Time for {} rows = {}\".format(len(sample_test_ratings), (datetime.now() - startTime)))"
   ]
  },
  {
   "cell_type": "code",
   "execution_count": 71,
   "metadata": {},
   "outputs": [
    {
     "data": {
      "text/html": [
       "<div>\n",
       "<style scoped>\n",
       "    .dataframe tbody tr th:only-of-type {\n",
       "        vertical-align: middle;\n",
       "    }\n",
       "\n",
       "    .dataframe tbody tr th {\n",
       "        vertical-align: top;\n",
       "    }\n",
       "\n",
       "    .dataframe thead th {\n",
       "        text-align: right;\n",
       "    }\n",
       "</style>\n",
       "<table border=\"1\" class=\"dataframe\">\n",
       "  <thead>\n",
       "    <tr style=\"text-align: right;\">\n",
       "      <th></th>\n",
       "      <th>User_ID</th>\n",
       "      <th>Movie_ID</th>\n",
       "      <th>Global_Average</th>\n",
       "      <th>SUR1</th>\n",
       "      <th>SUR2</th>\n",
       "      <th>SUR3</th>\n",
       "      <th>SUR4</th>\n",
       "      <th>SUR5</th>\n",
       "      <th>SMR1</th>\n",
       "      <th>SMR2</th>\n",
       "      <th>SMR3</th>\n",
       "      <th>SMR4</th>\n",
       "      <th>SMR5</th>\n",
       "      <th>User_Average</th>\n",
       "      <th>Movie_Average</th>\n",
       "      <th>Rating</th>\n",
       "    </tr>\n",
       "  </thead>\n",
       "  <tbody>\n",
       "    <tr>\n",
       "      <th>0</th>\n",
       "      <td>777147</td>\n",
       "      <td>5</td>\n",
       "      <td>3.622772</td>\n",
       "      <td>3.622772</td>\n",
       "      <td>3.622772</td>\n",
       "      <td>3.622772</td>\n",
       "      <td>3.622772</td>\n",
       "      <td>3.622772</td>\n",
       "      <td>3.622772</td>\n",
       "      <td>3.622772</td>\n",
       "      <td>3.622772</td>\n",
       "      <td>3.622772</td>\n",
       "      <td>3.622772</td>\n",
       "      <td>3.622772</td>\n",
       "      <td>3.622772</td>\n",
       "      <td>5</td>\n",
       "    </tr>\n",
       "    <tr>\n",
       "      <th>1</th>\n",
       "      <td>1748471</td>\n",
       "      <td>5</td>\n",
       "      <td>3.622772</td>\n",
       "      <td>3.622772</td>\n",
       "      <td>3.622772</td>\n",
       "      <td>3.622772</td>\n",
       "      <td>3.622772</td>\n",
       "      <td>3.622772</td>\n",
       "      <td>3.622772</td>\n",
       "      <td>3.622772</td>\n",
       "      <td>3.622772</td>\n",
       "      <td>3.622772</td>\n",
       "      <td>3.622772</td>\n",
       "      <td>3.622772</td>\n",
       "      <td>3.622772</td>\n",
       "      <td>5</td>\n",
       "    </tr>\n",
       "    <tr>\n",
       "      <th>2</th>\n",
       "      <td>1934002</td>\n",
       "      <td>5</td>\n",
       "      <td>3.622772</td>\n",
       "      <td>3.622772</td>\n",
       "      <td>3.622772</td>\n",
       "      <td>3.622772</td>\n",
       "      <td>3.622772</td>\n",
       "      <td>3.622772</td>\n",
       "      <td>3.622772</td>\n",
       "      <td>3.622772</td>\n",
       "      <td>3.622772</td>\n",
       "      <td>3.622772</td>\n",
       "      <td>3.622772</td>\n",
       "      <td>3.622772</td>\n",
       "      <td>3.622772</td>\n",
       "      <td>1</td>\n",
       "    </tr>\n",
       "    <tr>\n",
       "      <th>3</th>\n",
       "      <td>2189335</td>\n",
       "      <td>5</td>\n",
       "      <td>3.622772</td>\n",
       "      <td>3.622772</td>\n",
       "      <td>3.622772</td>\n",
       "      <td>3.622772</td>\n",
       "      <td>3.622772</td>\n",
       "      <td>3.622772</td>\n",
       "      <td>3.622772</td>\n",
       "      <td>3.622772</td>\n",
       "      <td>3.622772</td>\n",
       "      <td>3.622772</td>\n",
       "      <td>3.622772</td>\n",
       "      <td>3.622772</td>\n",
       "      <td>3.622772</td>\n",
       "      <td>4</td>\n",
       "    </tr>\n",
       "    <tr>\n",
       "      <th>4</th>\n",
       "      <td>2411773</td>\n",
       "      <td>5</td>\n",
       "      <td>3.622772</td>\n",
       "      <td>3.622772</td>\n",
       "      <td>3.622772</td>\n",
       "      <td>3.622772</td>\n",
       "      <td>3.622772</td>\n",
       "      <td>3.622772</td>\n",
       "      <td>3.622772</td>\n",
       "      <td>3.622772</td>\n",
       "      <td>3.622772</td>\n",
       "      <td>3.622772</td>\n",
       "      <td>3.622772</td>\n",
       "      <td>3.622772</td>\n",
       "      <td>3.622772</td>\n",
       "      <td>3</td>\n",
       "    </tr>\n",
       "  </tbody>\n",
       "</table>\n",
       "</div>"
      ],
      "text/plain": [
       "   User_ID  Movie_ID  Global_Average      SUR1      SUR2      SUR3      SUR4  \\\n",
       "0   777147         5        3.622772  3.622772  3.622772  3.622772  3.622772   \n",
       "1  1748471         5        3.622772  3.622772  3.622772  3.622772  3.622772   \n",
       "2  1934002         5        3.622772  3.622772  3.622772  3.622772  3.622772   \n",
       "3  2189335         5        3.622772  3.622772  3.622772  3.622772  3.622772   \n",
       "4  2411773         5        3.622772  3.622772  3.622772  3.622772  3.622772   \n",
       "\n",
       "       SUR5      SMR1      SMR2      SMR3      SMR4      SMR5  User_Average  \\\n",
       "0  3.622772  3.622772  3.622772  3.622772  3.622772  3.622772      3.622772   \n",
       "1  3.622772  3.622772  3.622772  3.622772  3.622772  3.622772      3.622772   \n",
       "2  3.622772  3.622772  3.622772  3.622772  3.622772  3.622772      3.622772   \n",
       "3  3.622772  3.622772  3.622772  3.622772  3.622772  3.622772      3.622772   \n",
       "4  3.622772  3.622772  3.622772  3.622772  3.622772  3.622772      3.622772   \n",
       "\n",
       "   Movie_Average  Rating  \n",
       "0       3.622772       5  \n",
       "1       3.622772       5  \n",
       "2       3.622772       1  \n",
       "3       3.622772       4  \n",
       "4       3.622772       3  "
      ]
     },
     "execution_count": 71,
     "metadata": {},
     "output_type": "execute_result"
    }
   ],
   "source": [
    "Test_Reg = pd.read_csv(\"Test_Regression.csv\", names = [\"User_ID\", \"Movie_ID\", \"Global_Average\", \"SUR1\", \"SUR2\", \"SUR3\", \"SUR4\", \"SUR5\", \"SMR1\", \"SMR2\", \"SMR3\", \"SMR4\", \"SMR5\", \"User_Average\", \"Movie_Average\", \"Rating\"])\n",
    "Test_Reg.head()"
   ]
  },
  {
   "cell_type": "code",
   "execution_count": 72,
   "metadata": {},
   "outputs": [
    {
     "name": "stdout",
     "output_type": "stream",
     "text": [
      "Number of nan Values = 0\n"
     ]
    }
   ],
   "source": [
    "print(\"Number of nan Values = \"+str(Test_Reg.isnull().sum().sum()))"
   ]
  },
  {
   "cell_type": "code",
   "execution_count": 73,
   "metadata": {},
   "outputs": [
    {
     "name": "stdout",
     "output_type": "stream",
     "text": [
      "Shape of Test DataFrame = (1358, 16)\n"
     ]
    }
   ],
   "source": [
    "print(\"Shape of Test DataFrame = {}\".format(Test_Reg.shape))"
   ]
  },
  {
   "cell_type": "markdown",
   "metadata": {},
   "source": [
    "### Transforming Data for Surprise Models"
   ]
  },
  {
   "cell_type": "markdown",
   "metadata": {},
   "source": [
    "### Transforming Train Data"
   ]
  },
  {
   "cell_type": "code",
   "execution_count": 74,
   "metadata": {},
   "outputs": [
    {
     "data": {
      "text/html": [
       "<div>\n",
       "<style scoped>\n",
       "    .dataframe tbody tr th:only-of-type {\n",
       "        vertical-align: middle;\n",
       "    }\n",
       "\n",
       "    .dataframe tbody tr th {\n",
       "        vertical-align: top;\n",
       "    }\n",
       "\n",
       "    .dataframe thead th {\n",
       "        text-align: right;\n",
       "    }\n",
       "</style>\n",
       "<table border=\"1\" class=\"dataframe\">\n",
       "  <thead>\n",
       "    <tr style=\"text-align: right;\">\n",
       "      <th></th>\n",
       "      <th>User_ID</th>\n",
       "      <th>Movie_ID</th>\n",
       "      <th>Rating</th>\n",
       "    </tr>\n",
       "  </thead>\n",
       "  <tbody>\n",
       "    <tr>\n",
       "      <th>0</th>\n",
       "      <td>4315</td>\n",
       "      <td>70</td>\n",
       "      <td>3</td>\n",
       "    </tr>\n",
       "    <tr>\n",
       "      <th>1</th>\n",
       "      <td>303087</td>\n",
       "      <td>70</td>\n",
       "      <td>3</td>\n",
       "    </tr>\n",
       "    <tr>\n",
       "      <th>2</th>\n",
       "      <td>1287490</td>\n",
       "      <td>70</td>\n",
       "      <td>4</td>\n",
       "    </tr>\n",
       "    <tr>\n",
       "      <th>3</th>\n",
       "      <td>508662</td>\n",
       "      <td>74</td>\n",
       "      <td>5</td>\n",
       "    </tr>\n",
       "    <tr>\n",
       "      <th>4</th>\n",
       "      <td>2335663</td>\n",
       "      <td>74</td>\n",
       "      <td>4</td>\n",
       "    </tr>\n",
       "  </tbody>\n",
       "</table>\n",
       "</div>"
      ],
      "text/plain": [
       "   User_ID  Movie_ID  Rating\n",
       "0     4315        70       3\n",
       "1   303087        70       3\n",
       "2  1287490        70       4\n",
       "3   508662        74       5\n",
       "4  2335663        74       4"
      ]
     },
     "execution_count": 74,
     "metadata": {},
     "output_type": "execute_result"
    }
   ],
   "source": [
    "Train_Reg[['User_ID', 'Movie_ID', 'Rating']].head(5)"
   ]
  },
  {
   "cell_type": "code",
   "execution_count": 76,
   "metadata": {},
   "outputs": [],
   "source": [
    "reader = Reader(rating_scale=(1, 5))\n",
    "\n",
    "data = Dataset.load_from_df(Train_Reg[['User_ID', 'Movie_ID', 'Rating']], reader)\n",
    "\n",
    "trainset = data.build_full_trainset()"
   ]
  },
  {
   "cell_type": "markdown",
   "metadata": {},
   "source": [
    "#### Transforming Test Data"
   ]
  },
  {
   "cell_type": "code",
   "execution_count": 78,
   "metadata": {},
   "outputs": [],
   "source": [
    "testset = list(zip(Test_Reg[\"User_ID\"].values, Test_Reg[\"Movie_ID\"].values, Test_Reg[\"Rating\"].values))"
   ]
  },
  {
   "cell_type": "code",
   "execution_count": 79,
   "metadata": {},
   "outputs": [
    {
     "data": {
      "text/plain": [
       "[(777147, 5, 5),\n",
       " (1748471, 5, 5),\n",
       " (1934002, 5, 1),\n",
       " (2189335, 5, 4),\n",
       " (2411773, 5, 3)]"
      ]
     },
     "execution_count": 79,
     "metadata": {},
     "output_type": "execute_result"
    }
   ],
   "source": [
    "testset[:5]"
   ]
  },
  {
   "cell_type": "code",
   "execution_count": 5,
   "metadata": {},
   "outputs": [
    {
     "name": "stderr",
     "output_type": "stream",
     "text": [
      "C:\\Users\\ruchi\\AppData\\Local\\Continuum\\anaconda3\\lib\\site-packages\\statsmodels\\tools\\_testing.py:19: FutureWarning: pandas.util.testing is deprecated. Use the functions in the public API at pandas.testing instead.\n",
      "  import pandas.util.testing as tm\n"
     ]
    }
   ],
   "source": [
    "# import dill\n",
    "# dill.dump_session('MLModels.db')\n",
    "import dill\n",
    "dill.load_session('MLModels.db')"
   ]
  },
  {
   "cell_type": "markdown",
   "metadata": {},
   "source": [
    "#### Applying Machine Learning Models\n",
    "Creating Utility functions and XGBoost function"
   ]
  },
  {
   "cell_type": "code",
   "execution_count": 7,
   "metadata": {},
   "outputs": [],
   "source": [
    "error_table = pd.DataFrame(columns = [\"Model\", \"Train RMSE\", \"Train MAPE\", \"Test RMSE\", \"Test MAPE\"])\n",
    "model_train_evaluation = dict()\n",
    "model_test_evaluation = dict()"
   ]
  },
  {
   "cell_type": "code",
   "execution_count": 8,
   "metadata": {},
   "outputs": [],
   "source": [
    "def make_table(model_name, rmse_train, mape_train, rmse_test, mape_test):\n",
    "    global error_table\n",
    "    error_table = error_table.append(pd.DataFrame([[model_name, rmse_train, mape_train, rmse_test, mape_test]], columns = [\"Model\", \"Train RMSE\", \"Train MAPE\", \"Test RMSE\", \"Test MAPE\"]))\n",
    "    error_table.reset_index(drop = True, inplace = True)"
   ]
  },
  {
   "cell_type": "code",
   "execution_count": 9,
   "metadata": {},
   "outputs": [],
   "source": [
    "def get_ratings(predictions):\n",
    "    actual = np.array([pred.r_ui for pred in predictions])\n",
    "    predicted = np.array([pred.est for pred in predictions])\n",
    "    return actual, predicted"
   ]
  },
  {
   "cell_type": "code",
   "execution_count": 10,
   "metadata": {},
   "outputs": [],
   "source": [
    "def get_error(predictions):\n",
    "    actual, predicted = get_ratings(predictions)\n",
    "    rmse = np.sqrt(mean_squared_error(actual, predicted)) \n",
    "    mape = np.mean(abs((actual - predicted)/actual))*100\n",
    "    return rmse, mape"
   ]
  },
  {
   "cell_type": "code",
   "execution_count": 14,
   "metadata": {},
   "outputs": [],
   "source": [
    "def error_metrics(y_true, y_pred):\n",
    "    rmse = np.sqrt(mean_squared_error(y_true, y_pred))\n",
    "    mape = np.mean(abs((y_true - y_pred)/y_true))*100\n",
    "    return rmse, mape"
   ]
  },
  {
   "cell_type": "code",
   "execution_count": 11,
   "metadata": {},
   "outputs": [],
   "source": [
    "def train_test_xgboost(x_train, x_test, y_train, y_test, model_name):\n",
    "    startTime = datetime.now()\n",
    "    train_result = dict()\n",
    "    test_result = dict()\n",
    "    \n",
    "    clf = xgb.XGBRegressor(n_estimators = 100, silent = False, n_jobs  = 10)\n",
    "    clf.fit(x_train, y_train)\n",
    "    \n",
    "    print(\"-\"*50)\n",
    "    print(\"TRAIN DATA\")\n",
    "    y_pred_train = clf.predict(x_train)\n",
    "    rmse_train, mape_train = error_metrics(y_train, y_pred_train)\n",
    "    print(\"RMSE = {}\".format(rmse_train))\n",
    "    print(\"MAPE = {}\".format(mape_train))\n",
    "    print(\"-\"*50)\n",
    "    train_result = {\"RMSE\": rmse_train, \"MAPE\": mape_train, \"Prediction\": y_pred_train}\n",
    "    \n",
    "    print(\"TEST DATA\")\n",
    "    y_pred_test = clf.predict(x_test)\n",
    "    rmse_test, mape_test = error_metrics(y_test, y_pred_test)\n",
    "    print(\"RMSE = {}\".format(rmse_test))\n",
    "    print(\"MAPE = {}\".format(mape_test))\n",
    "    print(\"-\"*50)\n",
    "    test_result = {\"RMSE\": rmse_test, \"MAPE\": mape_test, \"Prediction\": y_pred_test}\n",
    "        \n",
    "    print(\"Time Taken = \"+str(datetime.now() - startTime))\n",
    "    \n",
    "    make_table(model_name, rmse_train, mape_train, rmse_test, mape_test)\n",
    "    \n",
    "    return train_result, test_result"
   ]
  },
  {
   "cell_type": "code",
   "execution_count": 12,
   "metadata": {},
   "outputs": [],
   "source": [
    "my_seed = 15\n",
    "random.seed(my_seed)\n",
    "np.random.seed(my_seed)\n",
    "\n",
    "def run_surprise(algo, trainset, testset, model_name):\n",
    "    startTime = datetime.now()\n",
    "    \n",
    "    train = dict()\n",
    "    test = dict()\n",
    "    \n",
    "    algo.fit(trainset)\n",
    "    #You can check out above function at \"https://surprise.readthedocs.io/en/stable/getting_started.html\" in \n",
    "    #\"Train-test split and the fit() method\" section\n",
    "    \n",
    "#-----------------Evaluating Train Data------------------#\n",
    "    print(\"-\"*50)\n",
    "    print(\"TRAIN DATA\")\n",
    "    train_pred = algo.test(trainset.build_testset())\n",
    "    #You can check out \"algo.test()\" function at \"https://surprise.readthedocs.io/en/stable/getting_started.html\" in \n",
    "    #\"Train-test split and the fit() method\" section\n",
    "    #You can check out \"trainset.build_testset()\" function at \"https://surprise.readthedocs.io/en/stable/FAQ.html#can-i-use-my-own-dataset-with-surprise-and-can-it-be-a-pandas-dataframe\" in \n",
    "    #\"How to get accuracy measures on the training set\" section\n",
    "    train_actual, train_predicted = get_ratings(train_pred)\n",
    "    train_rmse, train_mape = get_error(train_pred)\n",
    "    print(\"RMSE = {}\".format(train_rmse))\n",
    "    print(\"MAPE = {}\".format(train_mape))\n",
    "    print(\"-\"*50)\n",
    "    train = {\"RMSE\": train_rmse, \"MAPE\": train_mape, \"Prediction\": train_predicted}\n",
    "    \n",
    "#-----------------Evaluating Test Data------------------#\n",
    "    print(\"TEST DATA\")\n",
    "    test_pred = algo.test(testset)\n",
    "    #You can check out \"algo.test()\" function at \"https://surprise.readthedocs.io/en/stable/getting_started.html\" in \n",
    "    #\"Train-test split and the fit() method\" section\n",
    "    test_actual, test_predicted = get_ratings(test_pred)\n",
    "    test_rmse, test_mape = get_error(test_pred)\n",
    "    print(\"RMSE = {}\".format(test_rmse))\n",
    "    print(\"MAPE = {}\".format(test_mape))\n",
    "    print(\"-\"*50)\n",
    "    test = {\"RMSE\": test_rmse, \"MAPE\": test_mape, \"Prediction\": test_predicted}\n",
    "    \n",
    "    print(\"Time Taken = \"+str(datetime.now() - startTime))\n",
    "    \n",
    "    make_table(model_name, train_rmse, train_mape, test_rmse, test_mape)\n",
    "    \n",
    "    return train, test"
   ]
  },
  {
   "cell_type": "markdown",
   "metadata": {},
   "source": [
    "### 1. XGBoost\n",
    "Collaborative filtering is based only on a user’s history compared to that of users with a similar history.\n",
    "https://xgboost.readthedocs.io/en/latest/"
   ]
  },
  {
   "cell_type": "code",
   "execution_count": 15,
   "metadata": {},
   "outputs": [
    {
     "name": "stdout",
     "output_type": "stream",
     "text": [
      "[20:33:14] WARNING: C:/Users/Administrator/workspace/xgboost-win64_release_1.4.0/src/learner.cc:573: \n",
      "Parameters: { \"silent\" } might not be used.\n",
      "\n",
      "  This may not be accurate due to some parameters are only used in language bindings but\n",
      "  passed down to XGBoost core.  Or some parameters are not used but slip through this\n",
      "  verification. Please open an issue if you find above cases.\n",
      "\n",
      "\n",
      "--------------------------------------------------\n",
      "TRAIN DATA\n",
      "RMSE = 0.6115289509187177\n",
      "MAPE = 16.398698091506958\n",
      "--------------------------------------------------\n",
      "TEST DATA\n",
      "RMSE = 1.22790192023578\n",
      "MAPE = 30.27111559096761\n",
      "--------------------------------------------------\n",
      "Time Taken = 0:00:00.947025\n"
     ]
    },
    {
     "name": "stderr",
     "output_type": "stream",
     "text": [
      "C:\\Users\\ruchi\\AppData\\Local\\Continuum\\anaconda3\\lib\\site-packages\\xgboost\\data.py:114: UserWarning: Use subset (sliced data) of np.ndarray is not recommended because it will generate extra copies and increase memory consumption\n",
      "  \"because it will generate extra copies and increase \" +\n"
     ]
    }
   ],
   "source": [
    "x_train = Train_Reg.drop([\"User_ID\", \"Movie_ID\", \"Rating\"], axis = 1)\n",
    "\n",
    "x_test = Test_Reg.drop([\"User_ID\", \"Movie_ID\", \"Rating\"], axis = 1)\n",
    "\n",
    "y_train = Train_Reg[\"Rating\"]\n",
    "\n",
    "y_test = Test_Reg[\"Rating\"]\n",
    "\n",
    "train_result, test_result = train_test_xgboost(x_train, x_test, y_train, y_test, \"XGBoost_13\")\n",
    "\n",
    "model_train_evaluation[\"XGBoost_13\"] = train_result\n",
    "model_test_evaluation[\"XGBoost_13\"] = test_result"
   ]
  },
  {
   "cell_type": "markdown",
   "metadata": {},
   "source": [
    "### 2. Matrix Factorization SVD\n",
    "\n",
    "Matrix factorization algorithms work by decomposing the user-movie interaction matrix into the product of two lower dimensionality rectangular matrices, say U and M. The decomposition is done in such a way that the product results in almost similar values to the user-movie interaction matrix. Here, U represents the user matrix, M represents the movie matrix, n is the number of users, and m is the number of movies.\n",
    "http://surprise.readthedocs.io/en/stable/matrix_factorization.html#surprise.prediction_algorithms.matrix_factorization.SVD"
   ]
  },
  {
   "cell_type": "code",
   "execution_count": 16,
   "metadata": {},
   "outputs": [
    {
     "name": "stdout",
     "output_type": "stream",
     "text": [
      "0.9453220512021484\n",
      "{'n_factors': 7}\n"
     ]
    }
   ],
   "source": [
    "param_grid  = {'n_factors': [5,7,10,15,20,25,35,50,70,90]}   #here, n_factors is the equivalent to dimension 'd' when matrix 'A'\n",
    "#is broken into 'b' and 'c'. So, matrix 'A' will be of dimension n*m. So, matrices 'b' and 'c' will be of dimension n*d and m*d.\n",
    "\n",
    "gs = GridSearchCV(SVD, param_grid, measures=['rmse', 'mae'], cv=3)\n",
    "\n",
    "gs.fit(data)\n",
    "\n",
    "# best RMSE score\n",
    "print(gs.best_score['rmse'])\n",
    "\n",
    "# combination of parameters that gave the best RMSE score\n",
    "print(gs.best_params['rmse'])"
   ]
  },
  {
   "cell_type": "code",
   "execution_count": 17,
   "metadata": {},
   "outputs": [
    {
     "name": "stdout",
     "output_type": "stream",
     "text": [
      "Processing epoch 0\n",
      "Processing epoch 1\n",
      "Processing epoch 2\n",
      "Processing epoch 3\n",
      "Processing epoch 4\n",
      "Processing epoch 5\n",
      "Processing epoch 6\n",
      "Processing epoch 7\n",
      "Processing epoch 8\n",
      "Processing epoch 9\n",
      "Processing epoch 10\n",
      "Processing epoch 11\n",
      "Processing epoch 12\n",
      "Processing epoch 13\n",
      "Processing epoch 14\n",
      "Processing epoch 15\n",
      "Processing epoch 16\n",
      "Processing epoch 17\n",
      "Processing epoch 18\n",
      "Processing epoch 19\n",
      "--------------------------------------------------\n",
      "TRAIN DATA\n",
      "RMSE = 0.8530107553010928\n",
      "MAPE = 25.893075845302825\n",
      "--------------------------------------------------\n",
      "TEST DATA\n",
      "RMSE = 1.0457877085274596\n",
      "MAPE = 31.904487821009543\n",
      "--------------------------------------------------\n",
      "Time Taken = 0:00:00.490962\n"
     ]
    }
   ],
   "source": [
    "algo = SVD(n_factors = gs.best_params['rmse']['n_factors'], biased=True, verbose=True)\n",
    "\n",
    "train_result, test_result = run_surprise(algo, trainset, testset, \"SVD\")\n",
    "\n",
    "model_train_evaluation[\"SVD\"] = train_result\n",
    "model_test_evaluation[\"SVD\"] = test_result"
   ]
  },
  {
   "cell_type": "markdown",
   "metadata": {},
   "source": [
    "### 3. Matrix Factorization SVDpp with implicit feedback"
   ]
  },
  {
   "cell_type": "code",
   "execution_count": 20,
   "metadata": {},
   "outputs": [
    {
     "name": "stdout",
     "output_type": "stream",
     "text": [
      "0.9445913070753368\n",
      "{'n_factors': 10, 'lr_all': 0.006}\n"
     ]
    }
   ],
   "source": [
    "param_grid = {'n_factors': [10, 30, 50, 80, 100], 'lr_all': [0.002, 0.006, 0.018, 0.054, 0.10]}\n",
    "\n",
    "gs = GridSearchCV(SVDpp, param_grid, measures=['rmse', 'mae'], cv=3)\n",
    "\n",
    "gs.fit(data)\n",
    "\n",
    "# best RMSE score\n",
    "print(gs.best_score['rmse'])\n",
    "\n",
    "# combination of parameters that gave the best RMSE score\n",
    "print(gs.best_params['rmse'])"
   ]
  },
  {
   "cell_type": "code",
   "execution_count": 21,
   "metadata": {},
   "outputs": [
    {
     "name": "stdout",
     "output_type": "stream",
     "text": [
      " processing epoch 0\n",
      " processing epoch 1\n",
      " processing epoch 2\n",
      " processing epoch 3\n",
      " processing epoch 4\n",
      " processing epoch 5\n",
      " processing epoch 6\n",
      " processing epoch 7\n",
      " processing epoch 8\n",
      " processing epoch 9\n",
      " processing epoch 10\n",
      " processing epoch 11\n",
      " processing epoch 12\n",
      " processing epoch 13\n",
      " processing epoch 14\n",
      " processing epoch 15\n",
      " processing epoch 16\n",
      " processing epoch 17\n",
      " processing epoch 18\n",
      " processing epoch 19\n",
      "--------------------------------------------------\n",
      "TRAIN DATA\n",
      "RMSE = 0.7910620110093817\n",
      "MAPE = 23.764017375323547\n",
      "--------------------------------------------------\n",
      "TEST DATA\n",
      "RMSE = 1.0478718931319626\n",
      "MAPE = 31.930540740289082\n",
      "--------------------------------------------------\n",
      "Time Taken = 0:00:04.802979\n"
     ]
    }
   ],
   "source": [
    "algo = SVDpp(n_factors = gs.best_params['rmse']['n_factors'], lr_all = gs.best_params['rmse'][\"lr_all\"], verbose=True)\n",
    "\n",
    "train_result, test_result = run_surprise(algo, trainset, testset, \"SVDpp\")\n",
    "\n",
    "model_train_evaluation[\"SVDpp\"] = train_result\n",
    "model_test_evaluation[\"SVDpp\"] = test_result"
   ]
  },
  {
   "cell_type": "markdown",
   "metadata": {},
   "source": [
    "### Comparing all ML Models"
   ]
  },
  {
   "cell_type": "code",
   "execution_count": 22,
   "metadata": {},
   "outputs": [],
   "source": [
    "final_error_table = error_table.drop([\"Train MAPE\", \"Test MAPE\"], axis = 1)"
   ]
  },
  {
   "cell_type": "code",
   "execution_count": 23,
   "metadata": {},
   "outputs": [
    {
     "data": {
      "image/png": "[encoded data removed]",
      "text/plain": [
       "<Figure size 576x576 with 1 Axes>"
      ]
     },
     "metadata": {
      "needs_background": "light"
     },
     "output_type": "display_data"
    }
   ],
   "source": [
    "final_error_table.plot(x = \"Model\", kind = \"bar\", figsize = (8, 8), grid = True, fontsize = 15)\n",
    "plt.title(\"Train and Test RMSE and MAPE of all Models\", fontsize = 20)\n",
    "plt.ylabel(\"Error Values\", fontsize = 20)\n",
    "plt.legend(bbox_to_anchor=(1, 1), fontsize = 20)\n",
    "plt.show()"
   ]
  },
  {
   "cell_type": "code",
   "execution_count": 30,
   "metadata": {},
   "outputs": [
    {
     "data": {
      "text/html": [
       "<div>\n",
       "<style scoped>\n",
       "    .dataframe tbody tr th:only-of-type {\n",
       "        vertical-align: middle;\n",
       "    }\n",
       "\n",
       "    .dataframe tbody tr th {\n",
       "        vertical-align: top;\n",
       "    }\n",
       "\n",
       "    .dataframe thead th {\n",
       "        text-align: right;\n",
       "    }\n",
       "</style>\n",
       "<table border=\"1\" class=\"dataframe\">\n",
       "  <thead>\n",
       "    <tr style=\"text-align: right;\">\n",
       "      <th></th>\n",
       "      <th>Model</th>\n",
       "      <th>Train RMSE</th>\n",
       "      <th>Test RMSE</th>\n",
       "    </tr>\n",
       "  </thead>\n",
       "  <tbody>\n",
       "    <tr>\n",
       "      <th>0</th>\n",
       "      <td>XGBoost_13</td>\n",
       "      <td>0.611529</td>\n",
       "      <td>1.227902</td>\n",
       "    </tr>\n",
       "    <tr>\n",
       "      <th>1</th>\n",
       "      <td>SVD</td>\n",
       "      <td>0.853011</td>\n",
       "      <td>1.045788</td>\n",
       "    </tr>\n",
       "    <tr>\n",
       "      <th>2</th>\n",
       "      <td>SVDpp</td>\n",
       "      <td>0.791062</td>\n",
       "      <td>1.047872</td>\n",
       "    </tr>\n",
       "  </tbody>\n",
       "</table>\n",
       "</div>"
      ],
      "text/plain": [
       "        Model  Train RMSE  Test RMSE\n",
       "0  XGBoost_13    0.611529   1.227902\n",
       "1         SVD    0.853011   1.045788\n",
       "2       SVDpp    0.791062   1.047872"
      ]
     },
     "execution_count": 30,
     "metadata": {},
     "output_type": "execute_result"
    }
   ],
   "source": [
    "error_table.drop([\"Train MAPE\", \"Test MAPE\"], axis = 1)"
   ]
  },
  {
   "cell_type": "code",
   "execution_count": null,
   "metadata": {},
   "outputs": [],
   "source": []
  }
 ],
 "metadata": {
  "kernelspec": {
   "display_name": "Python 3",
   "language": "python",
   "name": "python3"
  },
  "language_info": {
   "codemirror_mode": {
    "name": "ipython",
    "version": 3
   },
   "file_extension": ".py",
   "mimetype": "text/x-python",
   "name": "python",
   "nbconvert_exporter": "python",
   "pygments_lexer": "ipython3",
   "version": "3.7.9"
  }
 },
 "nbformat": 4,
 "nbformat_minor": 4
}
